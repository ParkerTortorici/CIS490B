{
  "nbformat": 4,
  "nbformat_minor": 0,
  "metadata": {
    "colab": {
      "provenance": [],
      "include_colab_link": true
    },
    "kernelspec": {
      "name": "python3",
      "display_name": "Python 3"
    },
    "language_info": {
      "name": "python"
    }
  },
  "cells": [
    {
      "cell_type": "markdown",
      "metadata": {
        "id": "view-in-github",
        "colab_type": "text"
      },
      "source": [
        "<a href=\"https://colab.research.google.com/github/ParkerTortorici/CIS490B/blob/main/Timing_of_Algorithms.ipynb\" target=\"_parent\"><img src=\"https://colab.research.google.com/assets/colab-badge.svg\" alt=\"Open In Colab\"/></a>"
      ]
    },
    {
      "cell_type": "code",
      "source": [
        "l"
      ],
      "metadata": {
        "id": "7xA-9f1-Reiz"
      },
      "execution_count": null,
      "outputs": []
    },
    {
      "cell_type": "markdown",
      "source": [
        "***Complexity Analysis*** allows us to examine the theoretical limits and asymptotic performance of an algorithm in terms of space and time. However, often in practice we get unexpected results with regards to runtime performance.  Python provides two tools \n",
        "\n",
        "Provide a simple definition/description of each of these terms or functions:\n",
        "\n",
        "**program profiling** (general term) -  the space (memory) or time complexity of a program, the usage of particular instructions, or the frequency and duration of function calls\n",
        "\n",
        "**timeit** (python module and function)- measurement of the execution time of a program or function or code snippit\n",
        "\n",
        "    timeit.timeit ...\n",
        "\n",
        "**cProfile** (python module and function)- Python's module to perfor program profiling. A set of numbers that shows how long and often program parts are called and are running\n",
        "\n",
        "**numpy.random.rand()** - creates random floats in the given shape\n",
        "\n",
        "    import numpy as np\n",
        "    random_values = np.random.rang((10))"
      ],
      "metadata": {
        "id": "BI6WCW1eJanU"
      }
    },
    {
      "cell_type": "code",
      "source": [
        "import numpy as np\n",
        "x = np.random.rand(4)\n",
        "print(x)\n",
        "#type(x)\n",
        "x.shape\n"
      ],
      "metadata": {
        "colab": {
          "base_uri": "https://localhost:8080/"
        },
        "id": "9M-rr-m0S3cC",
        "outputId": "80fea6f9-b0c0-454d-a714-0429e560aac2"
      },
      "execution_count": null,
      "outputs": [
        {
          "output_type": "stream",
          "name": "stdout",
          "text": [
            "[0.05879964 0.76924171 0.25129643 0.30469804]\n"
          ]
        },
        {
          "output_type": "execute_result",
          "data": {
            "text/plain": [
              "(4,)"
            ]
          },
          "metadata": {},
          "execution_count": 7
        }
      ]
    },
    {
      "cell_type": "markdown",
      "source": [
        "### BubbleSort\n",
        "\n",
        "<img src=\"https://upload.wikimedia.org/wikipedia/commons/3/37/Bubble_sort_animation.gif\">"
      ],
      "metadata": {
        "id": "rUvqO-IcIbzh"
      }
    },
    {
      "cell_type": "code",
      "execution_count": null,
      "metadata": {
        "id": "sR8yUvg7ITiK"
      },
      "outputs": [],
      "source": [
        "def bubbleSortInPlace(x):\n",
        "  \"\"\"BubbleSort: wi=orks on both lists and np.array\"\"\"\n",
        "  for i in range(len(x)-1):\n",
        "    for j in range(len(x)-1): # j goes from 0 to n - 1 \n",
        "      if x[j] > x[j+1]:\n",
        "        x[j],x[j+1] = x[j+1],x[j]\n",
        "\n",
        "def list_sort(x):\n",
        "  \"\"\"only works on a list\"\"\"\n",
        "  x.sort()\n",
        " \n",
        "def bubbleSort2():\n",
        "  \"\"\"First optimization: stop sorting outer loop if no swaps\"\"\"\n",
        "  pass\n",
        "\n",
        "def bubbleSort3(x):\n",
        "  \"\"\"Second optimization: don't resort the right most ones\"\"\"\n",
        "  for i in range(len(x)-1):\n",
        "    for j in range(len(x)-1 - i): # j goes from 0 to n - 1 \n",
        "      if x[j] > x[j+1]:\n",
        "        x[j],x[j+1] = x[j+1],x[j]"
      ]
    },
    {
      "cell_type": "code",
      "source": [
        "#test bubblesort\n",
        "def test_a_sort(sort_function):\n",
        "  \"\"\"runs a few test programs abd verifies output\"\"\"\n",
        "\n",
        "a = [4,3,2,1]\n",
        "sort_function(a)\n",
        "assert(a == [1,2,3,4])\n",
        "\n",
        "a = [4,3,2,1]\n",
        "sort_function(a)\n",
        "assert(a == [1,2,3,4])\n",
        "\n",
        "a = np.array([2,1,3,4])\n",
        "sort_function(a)\n",
        "assert(np.all(a==np.array([1,2,3,4])))\n",
        "#print(a)"
      ],
      "metadata": {
        "colab": {
          "base_uri": "https://localhost:8080/",
          "height": 238
        },
        "id": "rLV4rDnTWGEA",
        "outputId": "fb58e690-2ae0-4140-c899-37384b944c11"
      },
      "execution_count": null,
      "outputs": [
        {
          "output_type": "error",
          "ename": "NameError",
          "evalue": "ignored",
          "traceback": [
            "\u001b[0;31m---------------------------------------------------------------------------\u001b[0m",
            "\u001b[0;31mNameError\u001b[0m                                 Traceback (most recent call last)",
            "\u001b[0;32m<ipython-input-26-41414ef57f17>\u001b[0m in \u001b[0;36m<module>\u001b[0;34m\u001b[0m\n\u001b[1;32m      4\u001b[0m \u001b[0;34m\u001b[0m\u001b[0m\n\u001b[1;32m      5\u001b[0m \u001b[0ma\u001b[0m \u001b[0;34m=\u001b[0m \u001b[0;34m[\u001b[0m\u001b[0;36m4\u001b[0m\u001b[0;34m,\u001b[0m\u001b[0;36m3\u001b[0m\u001b[0;34m,\u001b[0m\u001b[0;36m2\u001b[0m\u001b[0;34m,\u001b[0m\u001b[0;36m1\u001b[0m\u001b[0;34m]\u001b[0m\u001b[0;34m\u001b[0m\u001b[0;34m\u001b[0m\u001b[0m\n\u001b[0;32m----> 6\u001b[0;31m \u001b[0msort_function\u001b[0m\u001b[0;34m(\u001b[0m\u001b[0ma\u001b[0m\u001b[0;34m)\u001b[0m\u001b[0;34m\u001b[0m\u001b[0;34m\u001b[0m\u001b[0m\n\u001b[0m\u001b[1;32m      7\u001b[0m \u001b[0;32massert\u001b[0m\u001b[0;34m(\u001b[0m\u001b[0ma\u001b[0m \u001b[0;34m==\u001b[0m \u001b[0;34m[\u001b[0m\u001b[0;36m1\u001b[0m\u001b[0;34m,\u001b[0m\u001b[0;36m2\u001b[0m\u001b[0;34m,\u001b[0m\u001b[0;36m3\u001b[0m\u001b[0;34m,\u001b[0m\u001b[0;36m4\u001b[0m\u001b[0;34m]\u001b[0m\u001b[0;34m)\u001b[0m\u001b[0;34m\u001b[0m\u001b[0;34m\u001b[0m\u001b[0m\n\u001b[1;32m      8\u001b[0m \u001b[0;34m\u001b[0m\u001b[0m\n",
            "\u001b[0;31mNameError\u001b[0m: name 'sort_function' is not defined"
          ]
        }
      ]
    },
    {
      "cell_type": "code",
      "source": [
        "test_a_sort(bubbleSortInPlace)\n",
        "test_a_sort(list_sort)\n",
        "test_a_sort(bubbleSort3)"
      ],
      "metadata": {
        "id": "WLjdI74-YyJV"
      },
      "execution_count": null,
      "outputs": []
    },
    {
      "cell_type": "code",
      "source": [
        "import timeit\n",
        "x = list(range(100))\n",
        "%timeit bubbleSortInPlace(x)\n",
        "y = list(range(100))\n",
        "%timeit list_sort(y)\n",
        "z = list(range(100))\n",
        "%timeit bubbleSort3(z)\n"
      ],
      "metadata": {
        "colab": {
          "base_uri": "https://localhost:8080/"
        },
        "id": "ot7sm837XyC2",
        "outputId": "69c8edb3-1914-42b5-e2b4-58f150d43534"
      },
      "execution_count": null,
      "outputs": [
        {
          "output_type": "stream",
          "name": "stdout",
          "text": [
            "949 µs ± 8.54 µs per loop (mean ± std. dev. of 7 runs, 1000 loops each)\n",
            "780 ns ± 8.5 ns per loop (mean ± std. dev. of 7 runs, 1000000 loops each)\n",
            "496 µs ± 2.35 µs per loop (mean ± std. dev. of 7 runs, 1000 loops each)\n"
          ]
        }
      ]
    },
    {
      "cell_type": "code",
      "source": [
        "x = list(range(100))\n",
        "bubbleSortInPlace(x)\n",
        "print(x)"
      ],
      "metadata": {
        "colab": {
          "base_uri": "https://localhost:8080/"
        },
        "id": "0JO2ZkGpaCO9",
        "outputId": "70bd6d26-d6ea-48f4-8152-85e25e1329bb"
      },
      "execution_count": null,
      "outputs": [
        {
          "output_type": "stream",
          "name": "stdout",
          "text": [
            "[0, 1, 2, 3, 4, 5, 6, 7, 8, 9, 10, 11, 12, 13, 14, 15, 16, 17, 18, 19, 20, 21, 22, 23, 24, 25, 26, 27, 28, 29, 30, 31, 32, 33, 34, 35, 36, 37, 38, 39, 40, 41, 42, 43, 44, 45, 46, 47, 48, 49, 50, 51, 52, 53, 54, 55, 56, 57, 58, 59, 60, 61, 62, 63, 64, 65, 66, 67, 68, 69, 70, 71, 72, 73, 74, 75, 76, 77, 78, 79, 80, 81, 82, 83, 84, 85, 86, 87, 88, 89, 90, 91, 92, 93, 94, 95, 96, 97, 98, 99]\n"
          ]
        }
      ]
    },
    {
      "cell_type": "code",
      "source": [
        "import cProfile\n",
        "\n",
        "def doSort():\n",
        "  x = list(range(100))\n",
        "  bubbleSortInPlace(x)\n",
        "cProfile.run('doSort()')"
      ],
      "metadata": {
        "colab": {
          "base_uri": "https://localhost:8080/"
        },
        "id": "xe_lZ3W0eqLC",
        "outputId": "e8c49e0c-2dce-440c-c0d1-4d5ec4612efc"
      },
      "execution_count": null,
      "outputs": [
        {
          "output_type": "stream",
          "name": "stdout",
          "text": [
            "         105 function calls in 0.001 seconds\n",
            "\n",
            "   Ordered by: standard name\n",
            "\n",
            "   ncalls  tottime  percall  cumtime  percall filename:lineno(function)\n",
            "        1    0.001    0.001    0.001    0.001 <ipython-input-42-2d9e379fbe56>:1(bubbleSortInPlace)\n",
            "        1    0.000    0.000    0.001    0.001 <ipython-input-48-e293dc1d79f6>:3(doSort)\n",
            "        1    0.000    0.000    0.001    0.001 <string>:1(<module>)\n",
            "        1    0.000    0.000    0.001    0.001 {built-in method builtins.exec}\n",
            "      100    0.000    0.000    0.000    0.000 {built-in method builtins.len}\n",
            "        1    0.000    0.000    0.000    0.000 {method 'disable' of '_lsprof.Profiler' objects}\n",
            "\n",
            "\n"
          ]
        }
      ]
    }
  ]
}