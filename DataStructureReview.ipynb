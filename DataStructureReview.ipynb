{
  "nbformat": 4,
  "nbformat_minor": 0,
  "metadata": {
    "colab": {
      "provenance": [],
      "authorship_tag": "ABX9TyPhg1n1cm5/Nz2Tw/k+C/IL",
      "include_colab_link": true
    },
    "kernelspec": {
      "name": "python3",
      "display_name": "Python 3"
    },
    "language_info": {
      "name": "python"
    }
  },
  "cells": [
    {
      "cell_type": "markdown",
      "metadata": {
        "id": "view-in-github",
        "colab_type": "text"
      },
      "source": [
        "<a href=\"https://colab.research.google.com/github/ParkerTortorici/CIS490B/blob/main/DataStructureReview.ipynb\" target=\"_parent\"><img src=\"https://colab.research.google.com/assets/colab-badge.svg\" alt=\"Open In Colab\"/></a>"
      ]
    },
    {
      "cell_type": "markdown",
      "source": [
        "The basic data structures are:\n",
        "* linked list\n",
        "* array\n",
        "* queue\n",
        "* hash table\n",
        "*tree"
      ],
      "metadata": {
        "id": "Bhsq4kRphk4M"
      }
    },
    {
      "cell_type": "markdown",
      "source": [
        "## linked list\n",
        "A linked list is made up of **nodes**\n",
        "Each node contains:\n",
        "1. data\n",
        "1. a next pointer\n",
        "\n",
        "A linked list in python is called a ...\n",
        "THERE IS NONE.\n",
        "\n",
        "You need to create your own. (eg use a class)"
      ],
      "metadata": {
        "id": "56XBgnkXhu7M"
      }
    },
    {
      "cell_type": "code",
      "execution_count": null,
      "metadata": {
        "colab": {
          "base_uri": "https://localhost:8080/"
        },
        "id": "7rtjFltfhei6",
        "outputId": "b065f3bf-9972-46d4-e894-e90923d2f373"
      },
      "outputs": [
        {
          "output_type": "stream",
          "name": "stdout",
          "text": [
            "<__main__.Node object at 0x7fca34f30b10>\n"
          ]
        }
      ],
      "source": [
        "class Node:\n",
        "  def __init__(self,data):\n",
        "    self.next = None\n",
        "    self.data = data\n",
        "\n",
        "\n",
        "\n",
        "class llist:\n",
        "  def __init__(self):\n",
        "    self.head = None\n",
        "    \n",
        "  def insert(self, data):\n",
        "    \"\"\"Creates a new node with data and puts it at the head in the \n",
        "    linked list chain. O(1)\"\"\"\n",
        "    new_node = Node(data)\n",
        "    new_node.next = self.head\n",
        "    self.head = new_node\n",
        "\n",
        "  def index(self,search_data):\n",
        "    \"\"\"Returns the number of nodes before finding a node with data-data;\n",
        "    if data isnt in any node, returns None\"\"\"\n",
        "    item_cnt = 0\n",
        "    current_node = self.head\n",
        "    \n",
        "    while True:\n",
        "      if current_node.data == search_data:\n",
        "        return item_cnt\n",
        "      else:\n",
        "        item_cnt == item_cnt + 1\n",
        "        current_node = current_node.next\n",
        "        if current_node == None:\n",
        "          return None\n",
        "    \n",
        "\n",
        "      \n",
        "\n",
        "my_ll = llist()\n",
        "my_ll.insert('C')\n",
        "my_ll.insert('B')\n",
        "my_ll.insert('A')\n",
        "print(my_ll.head)\n",
        "assert(my_ll.head.data == 'A')\n",
        "assert(my_ll.head.next.data == 'B')\n",
        "assert(my_ll.head.next.next.data == 'C')\n",
        "#assert(my_ll.head.next.next.next.data == None)\n",
        "my_ll.index('D')"
      ]
    },
    {
      "cell_type": "code",
      "source": [
        "1 != 1"
      ],
      "metadata": {
        "colab": {
          "base_uri": "https://localhost:8080/"
        },
        "id": "cLjAKgkxivVN",
        "outputId": "2ce28168-d662-48c9-ef67-ba0f1d476dc1"
      },
      "execution_count": null,
      "outputs": [
        {
          "output_type": "execute_result",
          "data": {
            "text/plain": [
              "False"
            ]
          },
          "metadata": {},
          "execution_count": 38
        }
      ]
    },
    {
      "cell_type": "markdown",
      "source": [
        "## Array\n",
        "In python the array data structure is: there is none!  \n",
        "The list data structure is a lot like an array though.  \n",
        "An array allows you to access memory chunks by and index.  "
      ],
      "metadata": {
        "id": "OB3MQvR8uWoh"
      }
    },
    {
      "cell_type": "code",
      "source": [
        "my_list = [1,2,3,4]\n",
        "print('first index is:', my_list[0])\n",
        "#how long does an idex lookup take?"
      ],
      "metadata": {
        "colab": {
          "base_uri": "https://localhost:8080/"
        },
        "id": "1sswFyjtosbs",
        "outputId": "15d6d241-d78f-48de-9dad-824d9e8f0543"
      },
      "execution_count": null,
      "outputs": [
        {
          "output_type": "stream",
          "name": "stdout",
          "text": [
            "first index is: 1\n"
          ]
        }
      ]
    },
    {
      "cell_type": "markdown",
      "source": [
        "## HashTable\n",
        "\n",
        "In pyhton a hashtable is implemented in the **dict** data structure."
      ],
      "metadata": {
        "id": "7SEwRXPavM0H"
      }
    },
    {
      "cell_type": "code",
      "source": [
        "# in this example we will store names with fav. cities\n",
        "my_ht = dict()\n",
        "my_ht = {}\n",
        "# These are examples of inserts\n",
        "# they run in O(1) time\n",
        "my_ht['Sung'] = 'Seoul'\n",
        "my_ht['Mohammed'] = 'Tampa'\n",
        "my_ht['Parker'] = 'Buffalo'\n",
        "my_ht['Amjad'] = 'Jeddah'\n",
        "\n",
        "# here is a lookup\n",
        "# it runs in O(1) time\n",
        "print(my_ht['Parker'])\n",
        "print(my_ht.get('Parker'))\n",
        "print('Is Parker in the HT?', 'Parker' in my_ht)\n",
        "print('Is Ty in the HT?', 'Ty' in my_ht)"
      ],
      "metadata": {
        "colab": {
          "base_uri": "https://localhost:8080/"
        },
        "id": "7OTmwaJLvas3",
        "outputId": "69df297d-3e45-40ef-958a-93e9f7a8d268"
      },
      "execution_count": null,
      "outputs": [
        {
          "output_type": "stream",
          "name": "stdout",
          "text": [
            "Buffalo\n",
            "Buffalo\n",
            "Is Parker in the HT? True\n",
            "Is Ty in the HT? False\n"
          ]
        }
      ]
    },
    {
      "cell_type": "code",
      "source": [
        "#Given a llist, return True if there is a circularity\n",
        "#               return False if there is not\n",
        "def isCircular(input_llist):\n",
        "  cur_node = input_llist.head\n",
        "  while True:\n",
        "    print(cur_node.data)\n",
        "    cur_node = cur_node.next\n",
        "    # check if the next node has been visited before, \n",
        "    # if so, there is a circularity, return True\n",
        "    if not cur_node:\n",
        "      break\n",
        "    # if we broke out of the while loop, we must not have had a circularity  \n",
        "    return False\n",
        "    \n",
        "circular_llist = llist()\n",
        "circular_llist.insert('C')\n",
        "circular_llist.insert('B')\n",
        "circular_llist.insert('A')\n",
        "#make C node point to the A node\n",
        "circular_llist.head.next.next.next = circular_llist.head\n",
        "\n",
        "ncircular_llist = llist()\n",
        "ncircular_llist.insert('C')\n",
        "ncircular_llist.insert('B')\n",
        "ncircular_llist.insert('A')\n",
        "\n",
        "print(isCircular(circular_llist))\n",
        "print(isCircular(ncircular_llist))"
      ],
      "metadata": {
        "colab": {
          "base_uri": "https://localhost:8080/"
        },
        "id": "_uX76_7Z1NjF",
        "outputId": "c0a8498c-4a48-4ee7-92f2-58dc8224e02d"
      },
      "execution_count": null,
      "outputs": [
        {
          "output_type": "stream",
          "name": "stdout",
          "text": [
            "A\n",
            "False\n",
            "A\n",
            "False\n"
          ]
        }
      ]
    },
    {
      "cell_type": "markdown",
      "source": [
        "# Homework\n",
        "Using our llist & node data structure, provide a function which determines if llist has a curcularity"
      ],
      "metadata": {
        "id": "KEtH-p7fyor9"
      }
    },
    {
      "cell_type": "code",
      "source": [
        "dir(my_ht)"
      ],
      "metadata": {
        "colab": {
          "base_uri": "https://localhost:8080/"
        },
        "id": "P4Hj4LWxxHzu",
        "outputId": "94b697df-823f-4460-99d7-65d92f7ace97"
      },
      "execution_count": null,
      "outputs": [
        {
          "output_type": "execute_result",
          "data": {
            "text/plain": [
              "['__class__',\n",
              " '__contains__',\n",
              " '__delattr__',\n",
              " '__delitem__',\n",
              " '__dir__',\n",
              " '__doc__',\n",
              " '__eq__',\n",
              " '__format__',\n",
              " '__ge__',\n",
              " '__getattribute__',\n",
              " '__getitem__',\n",
              " '__gt__',\n",
              " '__hash__',\n",
              " '__init__',\n",
              " '__init_subclass__',\n",
              " '__iter__',\n",
              " '__le__',\n",
              " '__len__',\n",
              " '__lt__',\n",
              " '__ne__',\n",
              " '__new__',\n",
              " '__reduce__',\n",
              " '__reduce_ex__',\n",
              " '__repr__',\n",
              " '__setattr__',\n",
              " '__setitem__',\n",
              " '__sizeof__',\n",
              " '__str__',\n",
              " '__subclasshook__',\n",
              " 'clear',\n",
              " 'copy',\n",
              " 'fromkeys',\n",
              " 'get',\n",
              " 'items',\n",
              " 'keys',\n",
              " 'pop',\n",
              " 'popitem',\n",
              " 'setdefault',\n",
              " 'update',\n",
              " 'values']"
            ]
          },
          "metadata": {},
          "execution_count": 49
        }
      ]
    }
  ]
}