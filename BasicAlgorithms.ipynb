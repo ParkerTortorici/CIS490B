{
  "nbformat": 4,
  "nbformat_minor": 0,
  "metadata": {
    "colab": {
      "provenance": [],
      "authorship_tag": "ABX9TyPMBeTBoUpz9aQFo5ZK2WqL",
      "include_colab_link": true
    },
    "kernelspec": {
      "name": "python3",
      "display_name": "Python 3"
    },
    "language_info": {
      "name": "python"
    }
  },
  "cells": [
    {
      "cell_type": "markdown",
      "metadata": {
        "id": "view-in-github",
        "colab_type": "text"
      },
      "source": [
        "<a href=\"https://colab.research.google.com/github/ParkerTortorici/CIS490B/blob/main/BasicAlgorithms.ipynb\" target=\"_parent\"><img src=\"https://colab.research.google.com/assets/colab-badge.svg\" alt=\"Open In Colab\"/></a>"
      ]
    },
    {
      "cell_type": "markdown",
      "source": [
        "**Linked List:** a collection of linked nodes, each node having data and a link to another node (or None)\n",
        "\n",
        "**Stack:** nodes can be *pushed* or *popped* from this data structure\n",
        "\n",
        "We can implement custom data structures in pyhton using *classes*\n",
        "\n",
        "A class contains functions (called methods) and data (called attributes)"
      ],
      "metadata": {
        "id": "3npFXlC_KKfg"
      }
    },
    {
      "cell_type": "code",
      "execution_count": null,
      "metadata": {
        "colab": {
          "base_uri": "https://localhost:8080/"
        },
        "id": "_FITSZxgJ-bN",
        "outputId": "d90d7b0a-783d-4444-92b1-6176c7dfdc5f"
      },
      "outputs": [
        {
          "output_type": "stream",
          "name": "stdout",
          "text": [
            "A\n",
            "B\n",
            "C\n",
            "False\n",
            "True\n",
            "True\n"
          ]
        }
      ],
      "source": [
        "class LlNode:\n",
        "  \"\"\"Single Node of a linked list. I am a default comment\"\"\"\n",
        "  def __init__(self):  # I am a method\n",
        "    \"\"\"I am the init function\"\"\"\n",
        "    self.data = None   # I am an attribute\n",
        "    self.next = None   # I am an attrubute\n",
        "\n",
        "  def doYouHave(self, find_data):\n",
        "    \"\"\"Returns True if find_data is in one of the nodes, otherwise\n",
        "    returns False\"\"\"\n",
        "    cur_node = self\n",
        "    while (not (cur_node == None)):\n",
        "      if cur_node.data == find_data:\n",
        "        return True\n",
        "      cur_node = cur_node.next\n",
        "    return False\n",
        "\n",
        "  def insertNewNodeAtHead(self, new_data):\n",
        "      new_node = LlNode()\n",
        "      new_node.data = new_data\n",
        "      new_node.next = self.next\n",
        "      self.next = new_node\n",
        "\n",
        "  def printAll(self):\n",
        "    \"\"\"Prints all nodes from this one toward the tail\"\"\"\n",
        "    cur_node = self\n",
        "    while (not (cur_node == None)):\n",
        "      print(cur_node.data)\n",
        "      cur_node = cur_node.next\n",
        "\n",
        "  def printAllSafe(self):\n",
        "    \"\"\"Prints all nodes and can handle loop\"\"\"\n",
        "    # we will identify loops by cheacking if a node was ever already visited\n",
        "    # we will generate a new linked list to remember visited nodes\n",
        "    new_ll = LlNode()\n",
        "    cur_node = self\n",
        "    new_ll.data = cur_node.data\n",
        "    cur_node = cur_node.next\n",
        "    while (not (cur_node == None)):\n",
        "      #if we already visited cur_node, break\n",
        "      if new_ll.doYouHave(cur_node.data):\n",
        "        return\n",
        "      else:\n",
        "        print(cur_node.data)\n",
        "        #insert node into ew_ll\n",
        "        new_ll.insertNewNodeAtHead(cur_node.data)\n",
        "        cur_node = cur_node.next\n",
        "\n",
        "#instantiate three instances of LlNode class\n",
        "n1 = LlNode()\n",
        "n2 = LlNode()\n",
        "n3 = LlNode()\n",
        "\n",
        "# connect nodes in a linked list\n",
        "my_linked_list_head = n1\n",
        "n1.next = n2\n",
        "n2.next = n3\n",
        "\n",
        "# set data for each node to be 'A' 'B' 'C'\n",
        "n1.data = 'A'\n",
        "n2.data = 'B'\n",
        "n3.data = 'C'\n",
        "n1.printAll()\n",
        "#print\n",
        "#print(n1.data)\n",
        "#print(n2.data)\n",
        "#print(n3.data)\n",
        "print(n1.doYouHave('X'))\n",
        "print(n1.doYouHave('A'))\n",
        "print(n1.doYouHave('B'))"
      ]
    },
    {
      "cell_type": "code",
      "source": [
        "help(LlNode)"
      ],
      "metadata": {
        "colab": {
          "base_uri": "https://localhost:8080/"
        },
        "id": "ZHZ1bsFIKldv",
        "outputId": "a961965e-1eaa-418f-d055-55bde88d7d86"
      },
      "execution_count": null,
      "outputs": [
        {
          "output_type": "stream",
          "name": "stdout",
          "text": [
            "Help on class LlNode in module __main__:\n",
            "\n",
            "class LlNode(builtins.object)\n",
            " |  Single Node of a linked list. I am a default comment\n",
            " |  \n",
            " |  Methods defined here:\n",
            " |  \n",
            " |  __init__(self)\n",
            " |      I am the init function\n",
            " |  \n",
            " |  doYouHave(self, find_data)\n",
            " |      Returns True if find_data is in one of the nodes, otherwise\n",
            " |      returns False\n",
            " |  \n",
            " |  insertNewNodeAtHead(self, new_data)\n",
            " |  \n",
            " |  printAll(self)\n",
            " |      Prints all nodes from this one toward the tail\n",
            " |  \n",
            " |  printAllSafe(self)\n",
            " |      Prints all nodes and can handle loop\n",
            " |  \n",
            " |  ----------------------------------------------------------------------\n",
            " |  Data descriptors defined here:\n",
            " |  \n",
            " |  __dict__\n",
            " |      dictionary for instance variables (if defined)\n",
            " |  \n",
            " |  __weakref__\n",
            " |      list of weak references to the object (if defined)\n",
            "\n"
          ]
        }
      ]
    },
    {
      "cell_type": "code",
      "source": [],
      "metadata": {
        "id": "pdoxP6dpR3Bq"
      },
      "execution_count": null,
      "outputs": []
    }
  ]
}