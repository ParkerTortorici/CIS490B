{
  "nbformat": 4,
  "nbformat_minor": 0,
  "metadata": {
    "colab": {
      "provenance": [],
      "include_colab_link": true
    },
    "kernelspec": {
      "name": "python3",
      "display_name": "Python 3"
    },
    "language_info": {
      "name": "python"
    }
  },
  "cells": [
    {
      "cell_type": "markdown",
      "metadata": {
        "id": "view-in-github",
        "colab_type": "text"
      },
      "source": [
        "<a href=\"https://colab.research.google.com/github/ParkerTortorici/CIS490B/blob/main/HashTable.ipynb\" target=\"_parent\"><img src=\"https://colab.research.google.com/assets/colab-badge.svg\" alt=\"Open In Colab\"/></a>"
      ]
    },
    {
      "cell_type": "markdown",
      "source": [],
      "metadata": {
        "id": "PdmvjY-_211v"
      }
    },
    {
      "cell_type": "code",
      "execution_count": null,
      "metadata": {
        "id": "lyWwwBfE2wun"
      },
      "outputs": [],
      "source": [
        "import numpy as np\n",
        "\n",
        "def hash_func(key):\n",
        "  \"\"\"Takes in any string and converts to an int 0-31\"\"\"\n",
        "  hash_val = 1\n",
        "  for letter in key:\n",
        "    hash_val = hash_val * ord(letter)\n",
        "  \n",
        "  \n",
        "class HashTable:\n",
        "  def __init__(self):\n",
        "    self.data_list = []\n",
        "    self.true_array = np.empty((32),dtype=object)\n",
        "\n",
        "  def insert(self, key, val):\n",
        "    \"\"\"Instantiates a new KeyVal with key and val, then i\n",
        "    nserts key and val into data_list\"\"\"\n",
        "    new_node = KeyVal(key, val)\n",
        "    self.data_list.append(new_node)\n",
        "\n",
        "    # insert it into true_array\n",
        "    hash_value = hash_func(key)\n",
        "\n",
        "  def get_val(self, key):\n",
        "    \"\"\"Given a key, find the val if the key is in this HashTable, returns None\n",
        "    if not in the HashTable\"\"\"\n",
        "    for node in self.data_list:\n",
        "      if node.key == key:\n",
        "        return node.val\n",
        "    return None\n",
        "\n",
        "class KeyVal:\n",
        "  def __init__(self, key=None, val=None):\n",
        "    self.key = key\n",
        "    self.val = val\n"
      ]
    },
    {
      "cell_type": "code",
      "source": [
        "# how we want to use hash table: \n",
        "my_ht = HashTable() # instantiate a HashTable\n",
        "my_ht.insert('Cris', 13) # we call the insert method of class HashTable\n",
        "my_ht.insert('Mohammed', 7)\n",
        "print('find Cris:', my_ht.get_val('Cris'))\n",
        "print('find Mohammed:', my_ht.get_val('Mohammed'))\n"
      ],
      "metadata": {
        "colab": {
          "base_uri": "https://localhost:8080/"
        },
        "id": "4E96jz8g4Yap",
        "outputId": "f7dc3f2b-20f6-4864-eb8a-defcd43abcc4"
      },
      "execution_count": null,
      "outputs": [
        {
          "output_type": "stream",
          "name": "stdout",
          "text": [
            "find Cris: 13\n",
            "find Mohammed: 7\n"
          ]
        }
      ]
    },
    {
      "cell_type": "code",
      "source": [
        "a = np.empty((10),dtype=object)\n",
        "node = KeyVal(3,4)\n",
        "a[0] = Node"
      ],
      "metadata": {
        "id": "Upw4Bcc2G2rU"
      },
      "execution_count": null,
      "outputs": []
    },
    {
      "cell_type": "code",
      "source": [
        "# TRUE ARRAY!!\n",
        "# WE USE numpy\n",
        "import numpy as np\n",
        "\n",
        "true_array = np.empty((32), dtype=object)\n",
        "true_array[0] = 'hello'\n",
        "print(true_array[10])"
      ],
      "metadata": {
        "colab": {
          "base_uri": "https://localhost:8080/"
        },
        "id": "tCU6Saz_G2XT",
        "outputId": "7ecdff6b-88dd-436d-d29c-b8d3c74b0d54"
      },
      "execution_count": null,
      "outputs": [
        {
          "output_type": "stream",
          "name": "stdout",
          "text": [
            "None\n"
          ]
        }
      ]
    },
    {
      "cell_type": "code",
      "source": [
        "ord('A')"
      ],
      "metadata": {
        "colab": {
          "base_uri": "https://localhost:8080/"
        },
        "id": "u4BR1_MlJq_p",
        "outputId": "a290aa15-5f8a-4a0a-b280-7b940fb2a4f8"
      },
      "execution_count": null,
      "outputs": [
        {
          "output_type": "execute_result",
          "data": {
            "text/plain": [
              "65"
            ]
          },
          "metadata": {},
          "execution_count": 27
        }
      ]
    },
    {
      "cell_type": "code",
      "source": [
        "5%3"
      ],
      "metadata": {
        "id": "oSgfblLMKKjA",
        "outputId": "5b996114-a6eb-4c18-f71f-404416cb7d38",
        "colab": {
          "base_uri": "https://localhost:8080/"
        }
      },
      "execution_count": null,
      "outputs": [
        {
          "output_type": "execute_result",
          "data": {
            "text/plain": [
              "2"
            ]
          },
          "metadata": {},
          "execution_count": 30
        }
      ]
    },
    {
      "cell_type": "code",
      "source": [
        "#Parker\n",
        "1611811518 % 32"
      ],
      "metadata": {
        "colab": {
          "base_uri": "https://localhost:8080/"
        },
        "id": "Gk4_KOuoJCR5",
        "outputId": "53f63861-6838-4066-8748-340338c0f21e"
      },
      "execution_count": null,
      "outputs": [
        {
          "output_type": "execute_result",
          "data": {
            "text/plain": [
              "30"
            ]
          },
          "metadata": {},
          "execution_count": 13
        }
      ]
    }
  ]
}