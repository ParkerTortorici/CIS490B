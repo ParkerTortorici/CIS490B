{
  "nbformat": 4,
  "nbformat_minor": 0,
  "metadata": {
    "colab": {
      "provenance": [],
      "include_colab_link": true
    },
    "kernelspec": {
      "name": "python3",
      "display_name": "Python 3"
    },
    "language_info": {
      "name": "python"
    }
  },
  "cells": [
    {
      "cell_type": "markdown",
      "metadata": {
        "id": "view-in-github",
        "colab_type": "text"
      },
      "source": [
        "<a href=\"https://colab.research.google.com/github/ParkerTortorici/CIS490B/blob/main/CornMaze_and_Tic_Tac_Toee.ipynb\" target=\"_parent\"><img src=\"https://colab.research.google.com/assets/colab-badge.svg\" alt=\"Open In Colab\"/></a>"
      ]
    },
    {
      "cell_type": "markdown",
      "source": [
        "We will implement Tic Tac Toe in python.\n",
        "\n",
        "A corn maze can be represented as a tree of decisions, each node representing the decision to go left or right.\n",
        "\n",
        "In this notebook, we will demonstrate two types of tree search:\n",
        "* **depth first search** - in the corn maze analogy - placing your hand on the right wall and following it until you get out results in a depth first search (i.e. you keep going down the right node until you find the exit, and backtrack only when you must). \n",
        "\n",
        "* **breadth first search** - visit all nodes at a depth of 1. If you don't find your search target, visit all nodes at a depth of 2, etc."
      ],
      "metadata": {
        "id": "0mcphBADQLl4"
      }
    },
    {
      "cell_type": "code",
      "execution_count": null,
      "metadata": {
        "id": "B0uPKpVvQHlz"
      },
      "outputs": [],
      "source": [
        "# we will represent a Tic Tac Toe board as a grid of numbers:\n",
        "#  0  1  2\n",
        "#  3  4  5\n",
        "#  6  7  8\n",
        "#\n",
        "# i.e. the center is represented as cell 4.\n",
        "# We will use a nine element list to represent the board state. \n",
        "# The list may contain only 'X','O', and '-'\n",
        "# initialize empty board:\n",
        "import random\n",
        "\n",
        "board0 = ['-','-','-',  '-','-','-',  '-','-','-']\n",
        "board1 = ['X','-','O',  'O','-','X',  'X','X','O']\n",
        "board2 = ['-','-','-',  '-','X','-',  '-','-','-']\n",
        "board3 = ['X','O','X',  'O','X','X',  'O','-','-']\n",
        "\n",
        "board4 = ['X','X','-',  'O','O','-',  '-','-','-'] # win with 2\n",
        "board5 = ['-','-','-',  'O','O','-',  'X','X','-'] # win with 8\n",
        "\n",
        "board6 = ['-','-','-',  'O','O','-',  'X','X','X'] # win with 8\n",
        "\n"
      ]
    },
    {
      "cell_type": "code",
      "source": [
        "# Helper functions\n",
        "def printBoard(board):\n",
        "  print(board[0:3]) # top row\n",
        "  print(board[3:6]) # middle row\n",
        "  print(board[6:9]) # bottom row\n",
        "\n",
        "def remainingValidMoves(board):\n",
        "  \"\"\"Given a board state, return a list of cells which are empty.\n",
        "  Note an empty cell is designated by a '-'\"\"\"\n",
        "  validMoves = []\n",
        "  for cellnum, cell in enumerate(board):\n",
        "    # if cell is a '-' append to validMoves\n",
        "    if board[cellnum] == '-':\n",
        "      validMoves.append(cellnum)\n",
        "  return validMoves\n",
        "\n",
        "def remainingValidMovePairs(board):\n",
        "  \"\"\"Given a board state, return a list of possible next two moves,\n",
        "  i.e. for both X and O. It will not check for wins\"\"\"\n",
        "  validMovePairs = []\n",
        "\n",
        "  #first cycle through valid next moves\n",
        "  valid_first_moves = remainingValidMoves(board)\n",
        "  # inner loop: evaluate possible depth 2 moves for each depth 1 move\n",
        "  for first_move in valid_first_moves:\n",
        "    test_board = board.copy()\n",
        "    test_board[first_move] = 'Z'\n",
        "    valid_second_moves = remainingValidMoves(test_board)\n",
        "    for second_move in valid_second_moves:\n",
        "      validMovePairs.append([first_move, second_move])\n",
        "  return validMovePairs\n",
        "\n",
        "def agent1(board):\n",
        "  \"\"\"Given a board state, returns a random selection out of remaining\n",
        "  valid moves (i.e. it returns a single integer representing the chosen\n",
        "  move).\"\"\"\n",
        "  # get list of valid moves\n",
        "  valid_moves = remainingValidMoves(board)  \n",
        "  # pick one element at random\n",
        "  move = random.choice(valid_moves)\n",
        "\n",
        "  return move\n",
        "\n",
        "def playerCells(board, playerLetter):\n",
        "  \"\"\"returns list of the cells where X went \"\"\"\n",
        "  player_cells = []\n",
        "  for cellnum, cell in enumerate(board):\n",
        "    if board[cellnum] == playerLetter:\n",
        "      player_cells.append(cellnum)\n",
        "  return player_cells\n",
        "\n",
        "def isThereAWinner(board):\n",
        "  \"\"\" returns true if someone has won\"\"\"\n",
        "  # check if three in a row anywhere\n",
        "  WINS = [[0,1,2],[3,4,5],[6,7,8],[0,3,6],[1,4,7],[2,5,8], [0,4,8], [2,4,6]]\n",
        "  # TODO\n",
        "  for player_letter in ['O','X']:\n",
        "    player_cells = set(playerCells(board, player_letter))\n",
        "    for win in WINS:\n",
        "      win = set(win)\n",
        "      #print(win)\n",
        "      # take the intersection of win and playercells and see if size is 3\n",
        "      #print('len:', len(win.intersection(player_cells)))\n",
        "      if len(win.intersection(player_cells)) == 3:\n",
        "        return True\n",
        "  return False \n",
        "\n",
        "def katherin_agent(board):\n",
        "  \"\"\"This agent will look at all next valid moves and if one results in\n",
        "  a win, will select that one. Returns the integer of the cell of the \n",
        "  picked move. If none of the valid next moves result in a win, she will\n",
        "  pick the last move. \"\"\"\n",
        "  player_letter = ['O','X'][len(remainingValidMoves(board))%2]\n",
        "  opponent_letter = ['X','O'][len(remainingValidMoves(board))%2]\n",
        "  # if move results in a win, return it immediately\n",
        "  for move in remainingValidMoves(board):\n",
        "    #depth of 1\n",
        "    test_board = board.copy()\n",
        "    test_board[move] = player_letter\n",
        "    #printBoard(test_board)\n",
        "    if isThereAWinner(test_board):\n",
        "      return move\n",
        "    \n",
        "  # for each next move, see if opponent can win, if not, select that move\n",
        "  for player_move in remainingValidMoves(board):\n",
        "    #depth of 1\n",
        "    # if move results in a win, return it immediately\n",
        "    test_board = board.copy()\n",
        "    test_board[player_move] = player_letter\n",
        "    #loop over opponents moves\n",
        "    for opponent_move in remainingValidMoves(test_board):\n",
        "      #see if this results in a loss for player, if so, keep going\n",
        "      #if not, return player move\n",
        "      b = test_board.copy()\n",
        "      #put an opponent letter into the board at posistion opponent_move\n",
        "      b[opponent_move] = opponent_letter\n",
        "      if not isThereAWinner(b):\n",
        "        return player_move\n",
        "  return player_move\n",
        "\n",
        "\n",
        "def agent3(board):\n",
        "  pass\n",
        "\n",
        "assert(remainingValidMoves(board0) == [0,1,2,3,4,5,6,7,8]) \n",
        "assert(remainingValidMoves(board1) == [1,4]) \n",
        "assert(remainingValidMoves(board2) == [0,1,2,3,5,6,7,8]) \n",
        "assert(remainingValidMoves(board3) == [7,8])\n",
        "assert(remainingValidMovePairs(board3) == [[7,8],[8,7]])\n",
        "\n",
        "assert(playerCells(board0, 'X') == [])\n",
        "assert(playerCells(board0, 'O') == [])\n",
        "assert(playerCells(board1, 'X') == [0,5,6,7])\n",
        "assert(playerCells(board1, 'O') == [2,3,8])\n"
      ],
      "metadata": {
        "id": "9grIN1J7X6I_"
      },
      "execution_count": null,
      "outputs": []
    },
    {
      "cell_type": "code",
      "source": [
        "board7 = ['X','O','-', 'O','X','-', 'X','-','-']\n",
        "printBoard(board7)\n",
        "katherin_agent(board7)\n",
        "#agent1(board4)"
      ],
      "metadata": {
        "colab": {
          "base_uri": "https://localhost:8080/"
        },
        "id": "etfzI6ONHNyG",
        "outputId": "6badd41a-a913-4807-e57d-803e6c806bd1"
      },
      "execution_count": null,
      "outputs": [
        {
          "output_type": "stream",
          "name": "stdout",
          "text": [
            "['X', 'O', '-']\n",
            "['O', 'X', '-']\n",
            "['X', '-', '-']\n",
            "['X', 'O', 'O']\n",
            "['O', 'X', '-']\n",
            "['X', '-', '-']\n",
            "['X', 'O', '-']\n",
            "['O', 'X', 'O']\n",
            "['X', '-', '-']\n",
            "['X', 'O', '-']\n",
            "['O', 'X', '-']\n",
            "['X', 'O', '-']\n",
            "['X', 'O', '-']\n",
            "['O', 'X', '-']\n",
            "['X', '-', 'O']\n"
          ]
        },
        {
          "output_type": "execute_result",
          "data": {
            "text/plain": [
              "2"
            ]
          },
          "metadata": {},
          "execution_count": 79
        }
      ]
    },
    {
      "cell_type": "code",
      "source": [
        "board4b = ['X','X','X',  'O','O','-',  '-','-','-'] # win with 2\n",
        "isThereAWinner(board4b)"
      ],
      "metadata": {
        "colab": {
          "base_uri": "https://localhost:8080/"
        },
        "id": "RUQ8CXVcjwcs",
        "outputId": "8e126160-d653-4855-ee19-43fad953f428"
      },
      "execution_count": null,
      "outputs": [
        {
          "output_type": "execute_result",
          "data": {
            "text/plain": [
              "True"
            ]
          },
          "metadata": {},
          "execution_count": 57
        }
      ]
    },
    {
      "cell_type": "code",
      "source": [
        "remainingValidMoves(board3)\n",
        "#remainingValidMovePairs(board0)"
      ],
      "metadata": {
        "colab": {
          "base_uri": "https://localhost:8080/"
        },
        "id": "P9p9oFEyYetO",
        "outputId": "f9ee960e-3caf-4f30-c9cd-202fd635bc4e"
      },
      "execution_count": null,
      "outputs": [
        {
          "output_type": "execute_result",
          "data": {
            "text/plain": [
              "[7, 8]"
            ]
          },
          "metadata": {},
          "execution_count": 33
        }
      ]
    },
    {
      "cell_type": "code",
      "source": [
        "x = ['I', 'love','chocolate']\n",
        "n = 0\n",
        "for i in x:\n",
        "  print(n,i)\n",
        "  n = n + 1\n",
        "\n",
        "for n,element in enumerate(x):\n",
        "  print(n,element)\n"
      ],
      "metadata": {
        "id": "gI1VuAeGeqlM",
        "colab": {
          "base_uri": "https://localhost:8080/"
        },
        "outputId": "5d46d958-5847-4e29-867c-e3af714c4db8"
      },
      "execution_count": null,
      "outputs": [
        {
          "output_type": "stream",
          "name": "stdout",
          "text": [
            "0 I\n",
            "1 love\n",
            "2 chocolate\n",
            "0 I\n",
            "1 love\n",
            "2 chocolate\n"
          ]
        }
      ]
    },
    {
      "cell_type": "code",
      "source": [
        "x = 4 == 5"
      ],
      "metadata": {
        "id": "Us502R3MDLlt"
      },
      "execution_count": null,
      "outputs": []
    },
    {
      "cell_type": "code",
      "source": [
        "print(x)\n"
      ],
      "metadata": {
        "colab": {
          "base_uri": "https://localhost:8080/"
        },
        "id": "jV9Zd99jE2pP",
        "outputId": "9a5a1231-2664-4838-eb3d-158cf1014139"
      },
      "execution_count": null,
      "outputs": [
        {
          "output_type": "stream",
          "name": "stdout",
          "text": [
            "False\n"
          ]
        }
      ]
    },
    {
      "cell_type": "code",
      "source": [
        "assert(x)"
      ],
      "metadata": {
        "colab": {
          "base_uri": "https://localhost:8080/",
          "height": 169
        },
        "id": "lfJUX_mFE9e8",
        "outputId": "58e796a6-2c2c-475f-de1d-74bcc6645825"
      },
      "execution_count": null,
      "outputs": [
        {
          "output_type": "error",
          "ename": "AssertionError",
          "evalue": "ignored",
          "traceback": [
            "\u001b[0;31m---------------------------------------------------------------------------\u001b[0m",
            "\u001b[0;31mAssertionError\u001b[0m                            Traceback (most recent call last)",
            "\u001b[0;32m<ipython-input-37-78007254876b>\u001b[0m in \u001b[0;36m<module>\u001b[0;34m\u001b[0m\n\u001b[0;32m----> 1\u001b[0;31m \u001b[0;32massert\u001b[0m\u001b[0;34m(\u001b[0m\u001b[0mx\u001b[0m\u001b[0;34m)\u001b[0m\u001b[0;34m\u001b[0m\u001b[0;34m\u001b[0m\u001b[0m\n\u001b[0m",
            "\u001b[0;31mAssertionError\u001b[0m: "
          ]
        }
      ]
    },
    {
      "cell_type": "code",
      "source": [
        "boards = [board0, board1,board2, board3, board4]\n",
        "for b in boards:\n",
        "  print('-----')\n",
        "  printBoard(b)\n",
        "  print('-----')\n",
        "\n",
        "print('empty cells: ', playerCells(board1, '-'))"
      ],
      "metadata": {
        "colab": {
          "base_uri": "https://localhost:8080/"
        },
        "id": "QlPiWyELE-f9",
        "outputId": "057d2b99-c6e7-4429-e57f-d27007030251"
      },
      "execution_count": null,
      "outputs": [
        {
          "output_type": "stream",
          "name": "stdout",
          "text": [
            "-----\n",
            "['-', '-', '-']\n",
            "['-', '-', '-']\n",
            "['-', '-', '-']\n",
            "-----\n",
            "-----\n",
            "['X', '-', 'O']\n",
            "['O', '-', 'X']\n",
            "['X', 'X', 'O']\n",
            "-----\n",
            "-----\n",
            "['-', '-', '-']\n",
            "['-', 'X', '-']\n",
            "['-', '-', '-']\n",
            "-----\n",
            "-----\n",
            "['X', 'O', 'X']\n",
            "['O', 'X', 'X']\n",
            "['O', '-', '-']\n",
            "-----\n",
            "-----\n",
            "['X', 'X', '-']\n",
            "['O', 'O', '-']\n",
            "['-', '-', '-']\n",
            "-----\n",
            "empty cells:  [1, 4]\n"
          ]
        }
      ]
    },
    {
      "cell_type": "code",
      "source": [
        "remainingValidMovePairs(board3)"
      ],
      "metadata": {
        "colab": {
          "base_uri": "https://localhost:8080/"
        },
        "id": "ZUB9nZb7FcAM",
        "outputId": "dcff324d-42f6-4945-b926-9021f97c3ccf"
      },
      "execution_count": null,
      "outputs": [
        {
          "output_type": "execute_result",
          "data": {
            "text/plain": [
              "[[7, 8], [8, 7]]"
            ]
          },
          "metadata": {},
          "execution_count": 39
        }
      ]
    },
    {
      "cell_type": "code",
      "source": [
        "# tuple vs. list\n",
        "# a tuple is immutable\n",
        "a = ('I', 'like', 'snickers')\n",
        "for i in a:\n",
        "  print(i)\n",
        "a[1] = \"don't like\"\n"
      ],
      "metadata": {
        "colab": {
          "base_uri": "https://localhost:8080/",
          "height": 258
        },
        "id": "z8HXbGgRGyv_",
        "outputId": "e2064633-0094-4e3f-d5de-0cb4b825480b"
      },
      "execution_count": null,
      "outputs": [
        {
          "output_type": "stream",
          "name": "stdout",
          "text": [
            "I\n",
            "like\n",
            "snickers\n"
          ]
        },
        {
          "output_type": "error",
          "ename": "TypeError",
          "evalue": "ignored",
          "traceback": [
            "\u001b[0;31m---------------------------------------------------------------------------\u001b[0m",
            "\u001b[0;31mTypeError\u001b[0m                                 Traceback (most recent call last)",
            "\u001b[0;32m<ipython-input-40-def2797591f9>\u001b[0m in \u001b[0;36m<module>\u001b[0;34m\u001b[0m\n\u001b[1;32m      4\u001b[0m \u001b[0;32mfor\u001b[0m \u001b[0mi\u001b[0m \u001b[0;32min\u001b[0m \u001b[0ma\u001b[0m\u001b[0;34m:\u001b[0m\u001b[0;34m\u001b[0m\u001b[0;34m\u001b[0m\u001b[0m\n\u001b[1;32m      5\u001b[0m   \u001b[0mprint\u001b[0m\u001b[0;34m(\u001b[0m\u001b[0mi\u001b[0m\u001b[0;34m)\u001b[0m\u001b[0;34m\u001b[0m\u001b[0;34m\u001b[0m\u001b[0m\n\u001b[0;32m----> 6\u001b[0;31m \u001b[0ma\u001b[0m\u001b[0;34m[\u001b[0m\u001b[0;36m1\u001b[0m\u001b[0;34m]\u001b[0m \u001b[0;34m=\u001b[0m \u001b[0;34m\"don't like\"\u001b[0m\u001b[0;34m\u001b[0m\u001b[0;34m\u001b[0m\u001b[0m\n\u001b[0m",
            "\u001b[0;31mTypeError\u001b[0m: 'tuple' object does not support item assignment"
          ]
        }
      ]
    },
    {
      "cell_type": "code",
      "source": [
        "xcells = set((0,1,2,3,3,3,3,3,3,3))\n",
        "win1 = set((0,1,2))\n",
        "print(len(win1.intersection(xcells)))\n",
        "print(xcells)"
      ],
      "metadata": {
        "colab": {
          "base_uri": "https://localhost:8080/"
        },
        "id": "iE66_MVYKoLL",
        "outputId": "0ffadba6-3d5e-4a80-d9ab-824c6317659c"
      },
      "execution_count": null,
      "outputs": [
        {
          "output_type": "stream",
          "name": "stdout",
          "text": [
            "3\n",
            "{0, 1, 2, 3}\n"
          ]
        }
      ]
    },
    {
      "cell_type": "code",
      "source": [
        "a = set((1,2,3))\n",
        "len(a.intersection({2,3}))"
      ],
      "metadata": {
        "colab": {
          "base_uri": "https://localhost:8080/"
        },
        "id": "ZFhWXZTINugh",
        "outputId": "f6d7497d-9bc3-42e6-8066-2d55541c0906"
      },
      "execution_count": null,
      "outputs": [
        {
          "output_type": "execute_result",
          "data": {
            "text/plain": [
              "2"
            ]
          },
          "metadata": {},
          "execution_count": 43
        }
      ]
    },
    {
      "cell_type": "code",
      "source": [
        "#isThereAWinner(board0)\n",
        "isThereAWinner(board6)\n",
        "#isThereAWinner(board2)\n",
        "#isThereAWinner(board3)"
      ],
      "metadata": {
        "colab": {
          "base_uri": "https://localhost:8080/"
        },
        "id": "sdwa4zPBR_CE",
        "outputId": "1e2ea251-a3d6-4a61-f0fd-224a048233b9"
      },
      "execution_count": null,
      "outputs": [
        {
          "output_type": "stream",
          "name": "stdout",
          "text": [
            "{0, 1, 2}\n",
            "len: 0\n",
            "{3, 4, 5}\n",
            "len: 2\n",
            "{8, 6, 7}\n",
            "len: 0\n",
            "{0, 3, 6}\n",
            "len: 1\n",
            "{1, 4, 7}\n",
            "len: 1\n",
            "{8, 2, 5}\n",
            "len: 0\n",
            "{0, 8, 4}\n",
            "len: 1\n",
            "{2, 4, 6}\n",
            "len: 1\n",
            "{0, 1, 2}\n",
            "len: 0\n",
            "{3, 4, 5}\n",
            "len: 0\n",
            "{8, 6, 7}\n",
            "len: 3\n"
          ]
        },
        {
          "output_type": "execute_result",
          "data": {
            "text/plain": [
              "True"
            ]
          },
          "metadata": {},
          "execution_count": 44
        }
      ]
    },
    {
      "cell_type": "code",
      "source": [
        "# we need to tell if it is X's turn or O's\n",
        "\n",
        "def whose_turn(num_moves_played):\n",
        "  \"\"\"Returns the letter ('X' or 'O') of whose turn it is\n",
        "  based on the the num_moves_played integer. \"\"\"\n",
        "  \n",
        "  if num_moves_played % 2 == 0:\n",
        "    return 'X'\n",
        "  else:\n",
        "    return 'O'\n",
        "\n",
        "assert(whose_turn(0) == 'X')\n",
        "assert(whose_turn(2) == 'X')\n",
        "assert(whose_turn(4) == 'X')\n",
        "assert(whose_turn(6) == 'X')\n",
        "assert(whose_turn(1) == 'O')\n",
        "assert(whose_turn(3) == 'O')\n",
        "assert(whose_turn(5) == 'O')\n",
        "assert(whose_turn(7) == 'O')"
      ],
      "metadata": {
        "id": "olPEmTpdSkYC"
      },
      "execution_count": null,
      "outputs": []
    },
    {
      "cell_type": "code",
      "source": [
        "players = ['X','O']\n",
        "print(players[0])\n",
        "print(players[1])"
      ],
      "metadata": {
        "colab": {
          "base_uri": "https://localhost:8080/"
        },
        "id": "k74jEBN9asTD",
        "outputId": "77f41a4d-e57a-4829-cdb6-fdf79ffd794e"
      },
      "execution_count": null,
      "outputs": [
        {
          "output_type": "stream",
          "name": "stdout",
          "text": [
            "X\n",
            "O\n"
          ]
        }
      ]
    },
    {
      "cell_type": "code",
      "source": [
        "def whose_turn(num_moves_played):\n",
        "  \"\"\"Returns the letter ('X' or 'O') of whose turn it is\n",
        "  based on the the num_moves_played integer. \"\"\"\n",
        "  players = ['X','O']\n",
        "  return players[num_moves_played % 2]\n",
        "\n",
        "assert(whose_turn(0) == 'X')\n",
        "assert(whose_turn(2) == 'X')\n",
        "assert(whose_turn(4) == 'X')\n",
        "assert(whose_turn(6) == 'X')\n",
        "assert(whose_turn(1) == 'O')\n",
        "assert(whose_turn(3) == 'O')\n",
        "assert(whose_turn(5) == 'O')\n",
        "assert(whose_turn(7) == 'O')"
      ],
      "metadata": {
        "id": "DEgausnhbL9i"
      },
      "execution_count": null,
      "outputs": []
    },
    {
      "cell_type": "code",
      "source": [
        "def whose_turn(num_moves_played):\n",
        "  \"\"\"Returns the letter ('X' or 'O') of whose turn it is\n",
        "  based on the the num_moves_played integer. \"\"\"\n",
        "\n",
        "  return['X','O','X','O','X','O','X','O'][num_moves_played]\n",
        "\n",
        "assert(whose_turn(0) == 'X')\n",
        "assert(whose_turn(2) == 'X')\n",
        "assert(whose_turn(4) == 'X')\n",
        "assert(whose_turn(6) == 'X')\n",
        "assert(whose_turn(1) == 'O')\n",
        "assert(whose_turn(3) == 'O')\n",
        "assert(whose_turn(5) == 'O')\n",
        "assert(whose_turn(7) == 'O')"
      ],
      "metadata": {
        "id": "_gqHTpxBbjvi"
      },
      "execution_count": null,
      "outputs": []
    },
    {
      "cell_type": "code",
      "source": [
        "['I', 'Love', 'algorithms'][0]"
      ],
      "metadata": {
        "colab": {
          "base_uri": "https://localhost:8080/",
          "height": 35
        },
        "id": "9JPkz7Z5bzzK",
        "outputId": "2642e5e6-6fed-4547-9174-3666449290d8"
      },
      "execution_count": null,
      "outputs": [
        {
          "output_type": "execute_result",
          "data": {
            "text/plain": [
              "'I'"
            ],
            "application/vnd.google.colaboratory.intrinsic+json": {
              "type": "string"
            }
          },
          "metadata": {},
          "execution_count": 49
        }
      ]
    }
  ]
}