{
  "nbformat": 4,
  "nbformat_minor": 0,
  "metadata": {
    "colab": {
      "provenance": [],
      "authorship_tag": "ABX9TyMXB+ogcgz9y6nZaEdaxEYX",
      "include_colab_link": true
    },
    "kernelspec": {
      "name": "python3",
      "display_name": "Python 3"
    },
    "language_info": {
      "name": "python"
    }
  },
  "cells": [
    {
      "cell_type": "markdown",
      "metadata": {
        "id": "view-in-github",
        "colab_type": "text"
      },
      "source": [
        "<a href=\"https://colab.research.google.com/github/ParkerTortorici/CIS490B/blob/main/DynamicProgrammingLab.ipynb\" target=\"_parent\"><img src=\"https://colab.research.google.com/assets/colab-badge.svg\" alt=\"Open In Colab\"/></a>"
      ]
    },
    {
      "cell_type": "markdown",
      "source": [
        "## Dynamic Programming\n",
        "\n",
        "In this lab we will examine dynamic programming with the ***longest common subsequence proplem from bioinformatics***\n",
        "\n",
        "Give a one sentence definitions:\n",
        "* **memoization** -\n",
        "* **divide and conquer** -\n",
        "* **dynamic programming** -\n"
      ],
      "metadata": {
        "id": "dKNyMCC0cpaW"
      }
    },
    {
      "cell_type": "markdown",
      "source": [
        "#### Longest Common Subsequence Problem\n",
        "\n",
        "Given two sequesnces (s1,s2) of elements (for example of letter), find the length of the longest subsequence of s1 and subsequence of s2 that are identical to \n",
        "\n",
        "a **susequence** is a subset of a sequence including only some of the original letters, but appearing in the same order as the original sequence. There can be zero to many *gaps* in the subsequence.\n",
        "\n",
        "AB is a subsequence of ABC\n",
        "\n",
        "AC is a subsequence of ABC\n",
        "\n",
        "CA is not a subsequence of ABC\n",
        "\n",
        "ACE is a subsequence of ABCDE\n"
      ],
      "metadata": {
        "id": "QQ5u75F2dMcF"
      }
    },
    {
      "cell_type": "code",
      "execution_count": null,
      "metadata": {
        "id": "PT_TdgCkcGh6"
      },
      "outputs": [],
      "source": [
        "def findLongestSubSequence(s1,s2):\n",
        "  \"\"\"Given strings s1 and s2, return the length of the lcs\"\"\"\n",
        "  #Brute force code\n",
        "  #TODO\n",
        "\n",
        "  lcs = 0\n",
        "  return lcs\n",
        "\n",
        "def findLongestSubSequence(s1,s2):\n",
        "  \"\"\"Given strings s1 and s2, return the length of the lcs\"\"\"\n",
        "  \n",
        "  #generate match grid\n",
        "  #   initialize mgrid and solgrid with zeros\n",
        "  mgrid = []\n",
        "  for i in range(len(s1)):\n",
        "    row = []\n",
        "    for j in range(len(s2)):\n",
        "      row.append(0)\n",
        "    mgrid.append(row)\n",
        "\n",
        "  solgrid = []\n",
        "  # we use len + 1 to make calculating solgrid easier\n",
        "  for i in range(len(s1)+1):\n",
        "    row = []\n",
        "    for j in range(len(s2)+1):\n",
        "      row.append(0)\n",
        "    solgrid.append(row)\n",
        "    \n",
        "    \n",
        "  #-------\n",
        "\n",
        "  for i,e1 in enumerate(s1):\n",
        "    for j,e2 in enumerate(s2):\n",
        "      #if there is a match in e1, e2, set mgrid to 1 in right spot\n",
        "      if e1 == e2:\n",
        "        mgrid[i][j] = 1\n",
        "  # we created mgrid\n",
        "  print('mgrid:', mgrid)\n",
        "\n",
        "  #for each cell look diag up and add value to match value\n",
        "  lcs_len = 0\n",
        "  for i in range(len(s1)):\n",
        "    for j in range(len(s2)):\n",
        "      solgrid[i][j] = solgrid[i-1][j-1] + mgrid[i][j]\n",
        "      if solgrid[i][j] > lcs_len:\n",
        "        lcs_len = solgrid[i][j]\n",
        "  print('solgrid:', solgrid)\n",
        "  return lcs_len\n",
        "\n",
        "def returnPowerSet(s1):\n",
        "  \"\"\"Given a string, returns a list of strings which comprise\n",
        "  the pwer set (all possible subsets of letters in the string)\n",
        "  example: s1 = \"ABD\", return_val ['A','B','C','AB','AC','BC','ABC']\"\"\"\n",
        "  ret_val = []\n",
        "  #lets grow the power set, length 1 to length len(s1)\n",
        "  #length 1\n",
        "  for i in s1:\n",
        "    ret_val.append(i)\n",
        "  \n",
        "  # length 2 subsequences\n",
        "  for i,firstLetter in enumerate(s1):\n",
        "    for j,secondLetter in enumerate(s1[i+1:]):\n",
        "      #print(i,j)\n",
        "      #print(firstLetter,secondLetter)\n",
        "      ret_val.append(firstLetter + secondLetter)\n",
        "\n",
        "  for i,firstLetter in enumerate(s1):\n",
        "    for j,secondLetter in enumerate(s1[i+1:]):\n",
        "        for k,thirdLetter in enumerate(s1[i+j+2:]):\n",
        "          ret_val.append(firstLetter + secondLetter + thirdLetter)\n",
        "  \n",
        "\n",
        "  return ret_val"
      ]
    },
    {
      "cell_type": "code",
      "source": [
        "# TEST CODE for returnPowerSet\n",
        "x = \"ABC\"\n",
        "correct_answer = ['A','B','C','AB','AC','BC','ABC']\n",
        "assert(correct_answer == returnPowerSet(x))\n",
        "print(returnPowerSet(x))\n",
        "\n",
        "x = \"A\"\n",
        "correct_answer = ['A']\n",
        "print(returnPowerSet(x))\n",
        "assert(correct_answer == returnPowerSet(x))"
      ],
      "metadata": {
        "colab": {
          "base_uri": "https://localhost:8080/"
        },
        "id": "OmR9vRxxigWX",
        "outputId": "0999b334-b1bd-4d36-cdab-40f5a0fdb9a4"
      },
      "execution_count": null,
      "outputs": [
        {
          "output_type": "stream",
          "name": "stdout",
          "text": [
            "['A', 'B', 'C', 'AB', 'AC', 'BC', 'ABC']\n",
            "['A']\n"
          ]
        }
      ]
    },
    {
      "cell_type": "code",
      "source": [
        "# TEST CODE for findLongestSubSequence\n",
        "s1 = 'A'\n",
        "s2 = 'A'\n",
        "lcs = 'A' #longest common subsequence\n",
        "#len(lcs) == 1\n",
        "\n",
        "answer = findLongestSubSequence(s1,s2)\n",
        "print(answer)\n",
        "\n",
        "#assert\n",
        "# s1 = 'A'\n",
        "# s2 = 'B'\n",
        "# lcs = '' #longest common subsequence\n",
        "# len(lcs) = 1\n"
      ],
      "metadata": {
        "colab": {
          "base_uri": "https://localhost:8080/"
        },
        "id": "ZTyNaZ-1edtN",
        "outputId": "7da648e4-651e-4ee7-8d18-d2cd420924ec"
      },
      "execution_count": null,
      "outputs": [
        {
          "output_type": "stream",
          "name": "stdout",
          "text": [
            "mgrid: [[1]]\n",
            "0\n"
          ]
        }
      ]
    },
    {
      "cell_type": "code",
      "source": [
        "a = 'ABC'\n",
        "a[4:]"
      ],
      "metadata": {
        "colab": {
          "base_uri": "https://localhost:8080/",
          "height": 35
        },
        "id": "p5gY0tOEm4Fr",
        "outputId": "f118c2a7-8661-41c8-f01c-beb36859aaed"
      },
      "execution_count": null,
      "outputs": [
        {
          "output_type": "execute_result",
          "data": {
            "text/plain": [
              "''"
            ],
            "application/vnd.google.colaboratory.intrinsic+json": {
              "type": "string"
            }
          },
          "metadata": {},
          "execution_count": 5
        }
      ]
    },
    {
      "cell_type": "code",
      "source": [
        "import matplotlib.pyplot as plt\n",
        "\n",
        "x = list(range(100))\n",
        "print(x)\n",
        "\n",
        "x_2 = []\n",
        "for element in x:\n",
        "  x_2.append(element**2)\n",
        "print(x_2)\n",
        "\n",
        "two2x = []\n",
        "for element in x:\n",
        "  two2x.append(2**element)\n",
        "#print(two2x)\n",
        "\n",
        "plt.plot(x,x_2,color='red')\n",
        "plt.plot(x,two2x,color='blue')\n",
        "plt.show()"
      ],
      "metadata": {
        "colab": {
          "base_uri": "https://localhost:8080/",
          "height": 332
        },
        "id": "ljBA2uzBsTQJ",
        "outputId": "c13e1a45-903e-4534-bcd6-8aaf5c757405"
      },
      "execution_count": null,
      "outputs": [
        {
          "output_type": "stream",
          "name": "stdout",
          "text": [
            "[0, 1, 2, 3, 4, 5, 6, 7, 8, 9, 10, 11, 12, 13, 14, 15, 16, 17, 18, 19, 20, 21, 22, 23, 24, 25, 26, 27, 28, 29, 30, 31, 32, 33, 34, 35, 36, 37, 38, 39, 40, 41, 42, 43, 44, 45, 46, 47, 48, 49, 50, 51, 52, 53, 54, 55, 56, 57, 58, 59, 60, 61, 62, 63, 64, 65, 66, 67, 68, 69, 70, 71, 72, 73, 74, 75, 76, 77, 78, 79, 80, 81, 82, 83, 84, 85, 86, 87, 88, 89, 90, 91, 92, 93, 94, 95, 96, 97, 98, 99]\n",
            "[0, 1, 4, 9, 16, 25, 36, 49, 64, 81, 100, 121, 144, 169, 196, 225, 256, 289, 324, 361, 400, 441, 484, 529, 576, 625, 676, 729, 784, 841, 900, 961, 1024, 1089, 1156, 1225, 1296, 1369, 1444, 1521, 1600, 1681, 1764, 1849, 1936, 2025, 2116, 2209, 2304, 2401, 2500, 2601, 2704, 2809, 2916, 3025, 3136, 3249, 3364, 3481, 3600, 3721, 3844, 3969, 4096, 4225, 4356, 4489, 4624, 4761, 4900, 5041, 5184, 5329, 5476, 5625, 5776, 5929, 6084, 6241, 6400, 6561, 6724, 6889, 7056, 7225, 7396, 7569, 7744, 7921, 8100, 8281, 8464, 8649, 8836, 9025, 9216, 9409, 9604, 9801]\n"
          ]
        },
        {
          "output_type": "display_data",
          "data": {
            "text/plain": [
              "<Figure size 432x288 with 1 Axes>"
            ],
            "image/png": "[encoded data removed]"
          },
          "metadata": {
            "needs_background": "light"
          }
        }
      ]
    },
    {
      "cell_type": "code",
      "source": [
        "# two dimension lists\n",
        "a = [1,2,3,4]\n",
        "a = [[1,2],[3,4]]\n",
        "#a[1,1] = 10\n",
        "a[1][1] = 10\n",
        "\n",
        "print(a)\n",
        "#print(a[0][1])\n",
        "\n",
        "# a matrix of 1's with 4 rows and 6 columns\n",
        "m = [[1,1,1,1,1,1],[1,1,1,1,1,1],[1,1,1,1,1,1],[1,1,1,1,1,1856]]\n",
        "print(m[3][5])\n",
        "print(m[3,5])\n",
        "\n",
        "# create the above using a loops and appends\n",
        "m = []\n",
        "for i in range(4):\n",
        "  row = []\n",
        "  for j in range(6):\n",
        "    row.append(1)\n",
        "  m.append(row)\n",
        "print(m)"
      ],
      "metadata": {
        "colab": {
          "base_uri": "https://localhost:8080/"
        },
        "id": "J_9sJ7OIzInM",
        "outputId": "7101ab1c-8845-4e1f-ce0e-ac0dbd743a1b"
      },
      "execution_count": null,
      "outputs": [
        {
          "output_type": "stream",
          "name": "stdout",
          "text": [
            "[[1, 2], [3, 10]]\n",
            "1856\n",
            "[[1, 1, 1, 1, 1, 1], [1, 1, 1, 1, 1, 1], [1, 1, 1, 1, 1, 1], [1, 1, 1, 1, 1, 1]]\n"
          ]
        }
      ]
    },
    {
      "cell_type": "code",
      "source": [
        "s = ['I', 'Love', 'CIS']\n",
        "\n",
        "for i in range(len(s)):\n",
        "  print(i, s[i])\n",
        "\n",
        "for i in range(len(s)):\n",
        "  print(i, s[i])\n",
        "print(s[-1])"
      ],
      "metadata": {
        "colab": {
          "base_uri": "https://localhost:8080/"
        },
        "id": "mkMP2Key2eAt",
        "outputId": "36245402-1129-4bd4-bd74-ee23dbfb5ea4"
      },
      "execution_count": null,
      "outputs": [
        {
          "output_type": "stream",
          "name": "stdout",
          "text": [
            "0 I\n",
            "1 Love\n",
            "2 CIS\n",
            "0 I\n",
            "1 Love\n",
            "2 CIS\n",
            "CIS\n"
          ]
        }
      ]
    },
    {
      "cell_type": "code",
      "source": [
        "s1 = 'ABC'\n",
        "s2 = 'AC'\n",
        "lcs = 'AC' #longest common subsequence\n",
        "#len(lcs) == 1\n",
        "answer = findLongestSubSequence(s1,s2)\n",
        "print(answer)"
      ],
      "metadata": {
        "colab": {
          "base_uri": "https://localhost:8080/"
        },
        "id": "gLdaaj4542cb",
        "outputId": "b8a53ccd-90dd-4588-ed27-69ec40e5f6f9"
      },
      "execution_count": null,
      "outputs": [
        {
          "output_type": "stream",
          "name": "stdout",
          "text": [
            "mgrid: [[1, 0], [0, 0], [0, 1]]\n",
            "solgrid: [[1, 0, 0], [0, 1, 0], [0, 1, 0], [0, 0, 0]]\n",
            "1\n"
          ]
        }
      ]
    },
    {
      "cell_type": "code",
      "source": [],
      "metadata": {
        "id": "gX5tvu_38FjK"
      },
      "execution_count": null,
      "outputs": []
    }
  ]
}