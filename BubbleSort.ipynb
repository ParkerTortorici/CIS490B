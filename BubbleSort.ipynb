{
  "nbformat": 4,
  "nbformat_minor": 0,
  "metadata": {
    "colab": {
      "provenance": [],
      "authorship_tag": "ABX9TyPdAB9uXTraDpCF238n42s6",
      "include_colab_link": true
    },
    "kernelspec": {
      "name": "python3",
      "display_name": "Python 3"
    },
    "language_info": {
      "name": "python"
    }
  },
  "cells": [
    {
      "cell_type": "markdown",
      "metadata": {
        "id": "view-in-github",
        "colab_type": "text"
      },
      "source": [
        "<a href=\"https://colab.research.google.com/github/ParkerTortorici/CIS490B/blob/main/BubbleSort.ipynb\" target=\"_parent\"><img src=\"https://colab.research.google.com/assets/colab-badge.svg\" alt=\"Open In Colab\"/></a>"
      ]
    },
    {
      "cell_type": "markdown",
      "source": [
        "###BubbleSort Lab\n",
        "For good algorithm coding practice [this link](http://leetcode.com)\n",
        "\n",
        "For a good time go to [w3schools](w3schools.com/python/)"
      ],
      "metadata": {
        "id": "8Jiwslo4YstN"
      }
    },
    {
      "cell_type": "code",
      "execution_count": null,
      "metadata": {
        "colab": {
          "base_uri": "https://localhost:8080/"
        },
        "id": "OEnv5brDYkkt",
        "outputId": "b6de0739-1b62-42f6-8a58-bf078bb4a105"
      },
      "outputs": [
        {
          "output_type": "stream",
          "name": "stdout",
          "text": [
            "-3\n",
            "-1\n",
            "-4\n",
            "-1\n",
            "300\n",
            "-5\n",
            "-9\n",
            "biggest element =  300\n"
          ]
        }
      ],
      "source": [
        "#find the largest element in a list\n",
        "my_list = [-3,-1,-4,-1,300,-5,-9]\n",
        "#initialization step\n",
        "be = my_list[0]\n",
        "\n",
        "#loop\n",
        "for e in my_list:\n",
        "  print(e)\n",
        "  if be < e:\n",
        "    be = e\n",
        "print('biggest element = ', be)"
      ]
    },
    {
      "cell_type": "markdown",
      "source": [
        "BubbleSort algorithm steps:\n",
        "\n",
        "- go through deck N times\n",
        " 1. compare pair of cards, if smaller on right, swap positions.\n",
        " 1. repeat with next pair\n"
      ],
      "metadata": {
        "id": "HdnXkGrRbxVh"
      }
    },
    {
      "cell_type": "code",
      "source": [
        "#BubbleSort\n",
        "input_data = [7,9,8,5]\n",
        "for i in range(len(input_data)-1):\n",
        "  #cycle through pairs of numbers\n",
        "  for j in range(len(input_data)-1):\n",
        "    print('cuurent pair of cards', input_data[j],input_data[j+1])\n",
        "    if input_data[j] > input_data[j+1]:\n",
        "      # swap\n",
        "      temp = input_data[j]\n",
        "      input_data[j] = input_data[j+1]\n",
        "      input_data[j+1] = temp\n",
        "\n",
        "print(input_data)"
      ],
      "metadata": {
        "colab": {
          "base_uri": "https://localhost:8080/"
        },
        "id": "R8J_LYfhbud6",
        "outputId": "7caa03ac-056f-4ee3-a370-6c7b7afb125f"
      },
      "execution_count": null,
      "outputs": [
        {
          "output_type": "stream",
          "name": "stdout",
          "text": [
            "cuurent pair of cards 7 9\n",
            "cuurent pair of cards 9 8\n",
            "cuurent pair of cards 9 5\n",
            "cuurent pair of cards 7 8\n",
            "cuurent pair of cards 8 5\n",
            "cuurent pair of cards 8 9\n",
            "cuurent pair of cards 7 5\n",
            "cuurent pair of cards 7 8\n",
            "cuurent pair of cards 8 9\n",
            "[5, 7, 8, 9]\n"
          ]
        }
      ]
    },
    {
      "cell_type": "code",
      "source": [
        "for element in range(5):\n",
        "  print('I love algorithms!', element)"
      ],
      "metadata": {
        "colab": {
          "base_uri": "https://localhost:8080/"
        },
        "id": "Tjc9ALD1d2ih",
        "outputId": "a6418c91-e815-480a-c301-cd50e11a6b45"
      },
      "execution_count": null,
      "outputs": [
        {
          "output_type": "stream",
          "name": "stdout",
          "text": [
            "I love algorithms! 0\n",
            "I love algorithms! 1\n",
            "I love algorithms! 2\n",
            "I love algorithms! 3\n",
            "I love algorithms! 4\n"
          ]
        }
      ]
    },
    {
      "cell_type": "code",
      "source": [
        "a = ['a','b','c','d']\n",
        "print (a[0],a[1])\n",
        "print (a[1],a[2])\n",
        "print (a[2],a[3])"
      ],
      "metadata": {
        "colab": {
          "base_uri": "https://localhost:8080/"
        },
        "id": "Jyzp7ciqgYiw",
        "outputId": "5d0157ae-6756-48e3-d7af-8d0b88c11638"
      },
      "execution_count": null,
      "outputs": [
        {
          "output_type": "stream",
          "name": "stdout",
          "text": [
            "a b\n",
            "b c\n",
            "c d\n"
          ]
        }
      ]
    },
    {
      "cell_type": "code",
      "source": [
        "a = ['a','b','c','d','e','f']\n",
        "for i in range(len(a)-1):\n",
        "  print (a[i], a[i+1])"
      ],
      "metadata": {
        "colab": {
          "base_uri": "https://localhost:8080/"
        },
        "id": "iC8kRY24g8x4",
        "outputId": "5a258518-d304-478a-ed16-12685532204a"
      },
      "execution_count": null,
      "outputs": [
        {
          "output_type": "stream",
          "name": "stdout",
          "text": [
            "a b\n",
            "b c\n",
            "c d\n",
            "d e\n",
            "e f\n"
          ]
        }
      ]
    },
    {
      "cell_type": "code",
      "source": [
        "a=5\n",
        "b=a\n",
        "a=1\n",
        "print('a',a)\n",
        "print('b',b)"
      ],
      "metadata": {
        "colab": {
          "base_uri": "https://localhost:8080/"
        },
        "id": "ZWzuglCgjrA_",
        "outputId": "88641815-3255-4376-a777-702e3ddf8e7f"
      },
      "execution_count": null,
      "outputs": [
        {
          "output_type": "stream",
          "name": "stdout",
          "text": [
            "a 1\n",
            "b 5\n"
          ]
        }
      ]
    },
    {
      "cell_type": "code",
      "source": [
        "x=4\n",
        "y=0\n",
        "x,y=y,x\n",
        "print(x,y)"
      ],
      "metadata": {
        "colab": {
          "base_uri": "https://localhost:8080/"
        },
        "id": "7aOCyZuMkqPH",
        "outputId": "0ddddeb7-f270-469b-d08c-642519058ce4"
      },
      "execution_count": null,
      "outputs": [
        {
          "output_type": "stream",
          "name": "stdout",
          "text": [
            "0 4\n"
          ]
        }
      ]
    },
    {
      "cell_type": "code",
      "source": [
        "input_data = [7,9,8,5]\n",
        "for i in range(len(input_data)-1):\n",
        "  for j in range(len(input_data)-1):\n",
        "    if input_data[j] > input_data[j+1]:\n",
        "      temp = input_data[j]\n",
        "      input_data[j] = input_data[j+1]\n",
        "      input_data[j+1] = temp\n",
        "\n",
        "print(input_data)"
      ],
      "metadata": {
        "id": "k_v1yBT8mIs2",
        "colab": {
          "base_uri": "https://localhost:8080/"
        },
        "outputId": "e4566299-4859-4ca3-9c1b-f87d0f559619"
      },
      "execution_count": null,
      "outputs": [
        {
          "output_type": "stream",
          "name": "stdout",
          "text": [
            "[5, 7, 8, 9]\n"
          ]
        }
      ]
    },
    {
      "cell_type": "code",
      "source": [
        "def BubbleSort(input_data):\n",
        "  l = len(input_data)\n",
        "  for i in range(l):\n",
        "    for j in range(0, l-i-1):\n",
        "      if l[j] > l[j+1]:\n",
        "        l[j], l[j+1] = l[j+1], l[j]\n",
        "if __name__ == \"__main__\":\n",
        "  input_data = [9,1,5,9]\n",
        "\n",
        "BubbleSort(input_data)\n",
        "\n",
        "for l in range(len(input_data)):\n",
        "  print(\"%d\" % input_data[i], end=\" \")"
      ],
      "metadata": {
        "id": "iAjaE1wYorzj",
        "colab": {
          "base_uri": "https://localhost:8080/",
          "height": 356
        },
        "outputId": "09d3394b-5d8f-45ad-a0b6-721581faf5b9"
      },
      "execution_count": null,
      "outputs": [
        {
          "output_type": "error",
          "ename": "TypeError",
          "evalue": "ignored",
          "traceback": [
            "\u001b[0;31m---------------------------------------------------------------------------\u001b[0m",
            "\u001b[0;31mTypeError\u001b[0m                                 Traceback (most recent call last)",
            "\u001b[0;32m<ipython-input-1-1d58db5c8c82>\u001b[0m in \u001b[0;36m<module>\u001b[0;34m\u001b[0m\n\u001b[1;32m      8\u001b[0m   \u001b[0minput_data\u001b[0m \u001b[0;34m=\u001b[0m \u001b[0;34m[\u001b[0m\u001b[0;36m9\u001b[0m\u001b[0;34m,\u001b[0m\u001b[0;36m1\u001b[0m\u001b[0;34m,\u001b[0m\u001b[0;36m5\u001b[0m\u001b[0;34m,\u001b[0m\u001b[0;36m9\u001b[0m\u001b[0;34m]\u001b[0m\u001b[0;34m\u001b[0m\u001b[0;34m\u001b[0m\u001b[0m\n\u001b[1;32m      9\u001b[0m \u001b[0;34m\u001b[0m\u001b[0m\n\u001b[0;32m---> 10\u001b[0;31m \u001b[0mBubbleSort\u001b[0m\u001b[0;34m(\u001b[0m\u001b[0minput_data\u001b[0m\u001b[0;34m)\u001b[0m\u001b[0;34m\u001b[0m\u001b[0;34m\u001b[0m\u001b[0m\n\u001b[0m\u001b[1;32m     11\u001b[0m \u001b[0;34m\u001b[0m\u001b[0m\n\u001b[1;32m     12\u001b[0m \u001b[0;32mfor\u001b[0m \u001b[0ml\u001b[0m \u001b[0;32min\u001b[0m \u001b[0mrange\u001b[0m\u001b[0;34m(\u001b[0m\u001b[0mlen\u001b[0m\u001b[0;34m(\u001b[0m\u001b[0minput_data\u001b[0m\u001b[0;34m)\u001b[0m\u001b[0;34m)\u001b[0m\u001b[0;34m:\u001b[0m\u001b[0;34m\u001b[0m\u001b[0;34m\u001b[0m\u001b[0m\n",
            "\u001b[0;32m<ipython-input-1-1d58db5c8c82>\u001b[0m in \u001b[0;36mBubbleSort\u001b[0;34m(input_data)\u001b[0m\n\u001b[1;32m      3\u001b[0m   \u001b[0;32mfor\u001b[0m \u001b[0mi\u001b[0m \u001b[0;32min\u001b[0m \u001b[0mrange\u001b[0m\u001b[0;34m(\u001b[0m\u001b[0ml\u001b[0m\u001b[0;34m)\u001b[0m\u001b[0;34m:\u001b[0m\u001b[0;34m\u001b[0m\u001b[0;34m\u001b[0m\u001b[0m\n\u001b[1;32m      4\u001b[0m     \u001b[0;32mfor\u001b[0m \u001b[0mj\u001b[0m \u001b[0;32min\u001b[0m \u001b[0mrange\u001b[0m\u001b[0;34m(\u001b[0m\u001b[0;36m0\u001b[0m\u001b[0;34m,\u001b[0m \u001b[0ml\u001b[0m\u001b[0;34m-\u001b[0m\u001b[0mi\u001b[0m\u001b[0;34m-\u001b[0m\u001b[0;36m1\u001b[0m\u001b[0;34m)\u001b[0m\u001b[0;34m:\u001b[0m\u001b[0;34m\u001b[0m\u001b[0;34m\u001b[0m\u001b[0m\n\u001b[0;32m----> 5\u001b[0;31m       \u001b[0;32mif\u001b[0m \u001b[0ml\u001b[0m\u001b[0;34m[\u001b[0m\u001b[0mj\u001b[0m\u001b[0;34m]\u001b[0m \u001b[0;34m>\u001b[0m \u001b[0ml\u001b[0m\u001b[0;34m[\u001b[0m\u001b[0mj\u001b[0m\u001b[0;34m+\u001b[0m\u001b[0;36m1\u001b[0m\u001b[0;34m]\u001b[0m\u001b[0;34m:\u001b[0m\u001b[0;34m\u001b[0m\u001b[0;34m\u001b[0m\u001b[0m\n\u001b[0m\u001b[1;32m      6\u001b[0m         \u001b[0ml\u001b[0m\u001b[0;34m[\u001b[0m\u001b[0mj\u001b[0m\u001b[0;34m]\u001b[0m\u001b[0;34m,\u001b[0m \u001b[0ml\u001b[0m\u001b[0;34m[\u001b[0m\u001b[0mj\u001b[0m\u001b[0;34m+\u001b[0m\u001b[0;36m1\u001b[0m\u001b[0;34m]\u001b[0m \u001b[0;34m=\u001b[0m \u001b[0ml\u001b[0m\u001b[0;34m[\u001b[0m\u001b[0mj\u001b[0m\u001b[0;34m+\u001b[0m\u001b[0;36m1\u001b[0m\u001b[0;34m]\u001b[0m\u001b[0;34m,\u001b[0m \u001b[0ml\u001b[0m\u001b[0;34m[\u001b[0m\u001b[0mj\u001b[0m\u001b[0;34m]\u001b[0m\u001b[0;34m\u001b[0m\u001b[0;34m\u001b[0m\u001b[0m\n\u001b[1;32m      7\u001b[0m \u001b[0;32mif\u001b[0m \u001b[0m__name__\u001b[0m \u001b[0;34m==\u001b[0m \u001b[0;34m\"__main__\"\u001b[0m\u001b[0;34m:\u001b[0m\u001b[0;34m\u001b[0m\u001b[0;34m\u001b[0m\u001b[0m\n",
            "\u001b[0;31mTypeError\u001b[0m: 'int' object is not subscriptable"
          ]
        }
      ]
    }
  ]
}