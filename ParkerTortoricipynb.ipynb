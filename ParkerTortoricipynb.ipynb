{
  "nbformat": 4,
  "nbformat_minor": 0,
  "metadata": {
    "colab": {
      "provenance": [],
      "authorship_tag": "ABX9TyPYVCyYUR9HH4wKKWDZgROF",
      "include_colab_link": true
    },
    "kernelspec": {
      "name": "python3",
      "display_name": "Python 3"
    },
    "language_info": {
      "name": "python"
    }
  },
  "cells": [
    {
      "cell_type": "markdown",
      "metadata": {
        "id": "view-in-github",
        "colab_type": "text"
      },
      "source": [
        "<a href=\"https://colab.research.google.com/github/ParkerTortorici/CIS490B/blob/main/ParkerTortoricipynb.ipynb\" target=\"_parent\"><img src=\"https://colab.research.google.com/assets/colab-badge.svg\" alt=\"Open In Colab\"/></a>"
      ]
    },
    {
      "cell_type": "code",
      "execution_count": null,
      "metadata": {
        "id": "gpRqR3c-c1uR"
      },
      "outputs": [],
      "source": [
        "def whose_turn(num_moves_played):\n",
        "  \"\"\"Returns the letter ('X' or 'O') of whose turn it is\n",
        "  based on the the num_moves_played integer. \"\"\"\n",
        "\n",
        "  return['X','O','X','O','X','O','X','O'][num_moves_played]\n",
        "\n",
        "assert(whose_turn(0) == 'X')\n",
        "assert(whose_turn(2) == 'X')\n",
        "assert(whose_turn(4) == 'X')\n",
        "assert(whose_turn(6) == 'X')\n",
        "assert(whose_turn(1) == 'O')\n",
        "assert(whose_turn(3) == 'O')\n",
        "assert(whose_turn(5) == 'O')\n",
        "assert(whose_turn(7) == 'O')"
      ]
    }
  ]
}