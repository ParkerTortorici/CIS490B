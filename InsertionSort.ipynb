{
  "nbformat": 4,
  "nbformat_minor": 0,
  "metadata": {
    "colab": {
      "provenance": [],
      "authorship_tag": "ABX9TyOyYn+vG0LqJVKSKjy9rqWz",
      "include_colab_link": true
    },
    "kernelspec": {
      "name": "python3",
      "display_name": "Python 3"
    },
    "language_info": {
      "name": "python"
    }
  },
  "cells": [
    {
      "cell_type": "markdown",
      "metadata": {
        "id": "view-in-github",
        "colab_type": "text"
      },
      "source": [
        "<a href=\"https://colab.research.google.com/github/ParkerTortorici/CIS490B/blob/main/InsertionSort.ipynb\" target=\"_parent\"><img src=\"https://colab.research.google.com/assets/colab-badge.svg\" alt=\"Open In Colab\"/></a>"
      ]
    },
    {
      "cell_type": "markdown",
      "source": [
        "### InsertionSort\n",
        "We will learn how to code insertion sort.\n",
        "\n",
        "Some of the python contructs we wull use are:\n",
        "\n",
        "-lists\n",
        "  -appen\n",
        "  -insert"
      ],
      "metadata": {
        "id": "Nt8pWyJYz6GU"
      }
    },
    {
      "cell_type": "code",
      "source": [
        "sorted_list = []\n",
        "sorted_list.append('hello')\n",
        "sorted_list.append(3)\n",
        "print(sorted_list)"
      ],
      "metadata": {
        "colab": {
          "base_uri": "https://localhost:8080/"
        },
        "id": "APbWpF7HMK4Q",
        "outputId": "7c0fdc8e-b142-46b7-c383-f31527db5b9d"
      },
      "execution_count": null,
      "outputs": [
        {
          "output_type": "stream",
          "name": "stdout",
          "text": [
            "['hello', 3]\n"
          ]
        }
      ]
    },
    {
      "cell_type": "code",
      "execution_count": null,
      "metadata": {
        "colab": {
          "base_uri": "https://localhost:8080/"
        },
        "id": "SE5AT0Gozyu5",
        "outputId": "0e603b23-e265-41c5-dd54-85b5513d2e19"
      },
      "outputs": [
        {
          "output_type": "stream",
          "name": "stdout",
          "text": [
            "51\n",
            "7\n",
            "2\n",
            "100\n",
            "The biggest number is: 100\n"
          ]
        }
      ],
      "source": [
        "# Find biggest number in a list - try when home to code from scratch\n",
        "\n",
        "input_list = [51,7,2,100]\n",
        "\n",
        "biggest_element = element = input_list[0]\n",
        "for element in input_list:\n",
        "  print(element)\n",
        "  if biggest_element < element:\n",
        "    biggest_element = element\n",
        "print('The biggest number is:', biggest_element)"
      ]
    },
    {
      "cell_type": "code",
      "source": [
        "my_list = ['apples','bananas','oranges']\n",
        "print(my_list[1])\n",
        "my_list.append(\"grapes\")\n",
        "print(my_list[5])\n"
      ],
      "metadata": {
        "colab": {
          "base_uri": "https://localhost:8080/"
        },
        "id": "OjkXaJpa0vzE",
        "outputId": "64e17af6-f299-4fdd-850c-8f6569d324fb"
      },
      "execution_count": null,
      "outputs": [
        {
          "output_type": "stream",
          "name": "stdout",
          "text": [
            "bananas\n",
            "['apples', 'bananas', 'oranges', 'grapes']\n"
          ]
        }
      ]
    },
    {
      "cell_type": "markdown",
      "source": [
        "#Insertion Sort"
      ],
      "metadata": {
        "id": "LiKKVSP590v3"
      }
    },
    {
      "cell_type": "code",
      "source": [
        "#Insertion Sort\n",
        "input_data = [51,2,3,4]\n",
        "\n",
        "# grab next card\n",
        "\n",
        "#initialize algorithm data structures\n",
        "sorted_data = []\n",
        "#outer loop - grab next card from input_data\n",
        "for next_card in input_data:\n",
        " #print('The next card is;', next_card)\n",
        "  #print('size of current sorted_list',len(sorted_data))\n",
        "  # put next_card in right spot\n",
        "  # inner loop - find right spot and insert card there\n",
        "  index = 0\n",
        "  for current_card in sorted_data:\n",
        "    #print('current_card,index:', current_card)\n",
        "    if next_card < current_card:\n",
        "      # insert next_card in front of current_card\n",
        "      sorted_data.insert(index,next_card)\n",
        "      index = index + 1\n",
        "  #if we reached the end of sorted_data, insert next_card at the end\n",
        "  if index == len(sorted_data):\n",
        "    sorted_data.append(next_card)\n",
        "\n",
        "  #print('current sorted_data:', sorted_data)\n",
        "# print solution\n",
        "print('sorted_data:', sorted_data)"
      ],
      "metadata": {
        "colab": {
          "base_uri": "https://localhost:8080/",
          "height": 236
        },
        "id": "KW4idOf-94Ov",
        "outputId": "3e16d629-f4d6-4421-9507-f37ad1395916"
      },
      "execution_count": null,
      "outputs": [
        {
          "output_type": "error",
          "ename": "KeyboardInterrupt",
          "evalue": "ignored",
          "traceback": [
            "\u001b[0;31m---------------------------------------------------------------------------\u001b[0m",
            "\u001b[0;31mKeyboardInterrupt\u001b[0m                         Traceback (most recent call last)",
            "\u001b[0;32m<ipython-input-5-982fcea8cd9a>\u001b[0m in \u001b[0;36m<module>\u001b[0;34m\u001b[0m\n\u001b[1;32m     13\u001b[0m   \u001b[0;31m# inner loop - find right spot and insert card there\u001b[0m\u001b[0;34m\u001b[0m\u001b[0;34m\u001b[0m\u001b[0;34m\u001b[0m\u001b[0m\n\u001b[1;32m     14\u001b[0m   \u001b[0mindex\u001b[0m \u001b[0;34m=\u001b[0m \u001b[0;36m0\u001b[0m\u001b[0;34m\u001b[0m\u001b[0;34m\u001b[0m\u001b[0m\n\u001b[0;32m---> 15\u001b[0;31m   \u001b[0;32mfor\u001b[0m \u001b[0mcurrent_card\u001b[0m \u001b[0;32min\u001b[0m \u001b[0msorted_data\u001b[0m\u001b[0;34m:\u001b[0m\u001b[0;34m\u001b[0m\u001b[0;34m\u001b[0m\u001b[0m\n\u001b[0m\u001b[1;32m     16\u001b[0m     \u001b[0;31m#print('current_card,index:', current_card)\u001b[0m\u001b[0;34m\u001b[0m\u001b[0;34m\u001b[0m\u001b[0;34m\u001b[0m\u001b[0m\n\u001b[1;32m     17\u001b[0m     \u001b[0;32mif\u001b[0m \u001b[0mnext_card\u001b[0m \u001b[0;34m<\u001b[0m \u001b[0mcurrent_card\u001b[0m\u001b[0;34m:\u001b[0m\u001b[0;34m\u001b[0m\u001b[0;34m\u001b[0m\u001b[0m\n",
            "\u001b[0;31mKeyboardInterrupt\u001b[0m: "
          ]
        }
      ]
    },
    {
      "cell_type": "code",
      "source": [
        "a = [1,2,3,4]\n",
        "a.insert('new data')\n",
        "print(a)"
      ],
      "metadata": {
        "colab": {
          "base_uri": "https://localhost:8080/",
          "height": 204
        },
        "id": "rUiAtP14-Tf_",
        "outputId": "fb120630-ccb0-4390-daab-3987a2351dbb"
      },
      "execution_count": null,
      "outputs": [
        {
          "output_type": "error",
          "ename": "TypeError",
          "evalue": "ignored",
          "traceback": [
            "\u001b[0;31m---------------------------------------------------------------------------\u001b[0m",
            "\u001b[0;31mTypeError\u001b[0m                                 Traceback (most recent call last)",
            "\u001b[0;32m<ipython-input-11-126cd2c82e41>\u001b[0m in \u001b[0;36m<module>\u001b[0;34m\u001b[0m\n\u001b[1;32m      1\u001b[0m \u001b[0ma\u001b[0m \u001b[0;34m=\u001b[0m \u001b[0;34m[\u001b[0m\u001b[0;36m1\u001b[0m\u001b[0;34m,\u001b[0m\u001b[0;36m2\u001b[0m\u001b[0;34m,\u001b[0m\u001b[0;36m3\u001b[0m\u001b[0;34m,\u001b[0m\u001b[0;36m4\u001b[0m\u001b[0;34m]\u001b[0m\u001b[0;34m\u001b[0m\u001b[0;34m\u001b[0m\u001b[0m\n\u001b[0;32m----> 2\u001b[0;31m \u001b[0ma\u001b[0m\u001b[0;34m.\u001b[0m\u001b[0minsert\u001b[0m\u001b[0;34m(\u001b[0m\u001b[0;34m'new data'\u001b[0m\u001b[0;34m)\u001b[0m\u001b[0;34m\u001b[0m\u001b[0;34m\u001b[0m\u001b[0m\n\u001b[0m\u001b[1;32m      3\u001b[0m \u001b[0mprint\u001b[0m\u001b[0;34m(\u001b[0m\u001b[0ma\u001b[0m\u001b[0;34m)\u001b[0m\u001b[0;34m\u001b[0m\u001b[0;34m\u001b[0m\u001b[0m\n",
            "\u001b[0;31mTypeError\u001b[0m: insert() takes exactly 2 arguments (1 given)"
          ]
        }
      ]
    }
  ]
}