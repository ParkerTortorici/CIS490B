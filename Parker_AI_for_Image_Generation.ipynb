{
  "nbformat": 4,
  "nbformat_minor": 0,
  "metadata": {
    "colab": {
      "provenance": [],
      "include_colab_link": true
    },
    "kernelspec": {
      "name": "python3",
      "display_name": "Python 3"
    },
    "language_info": {
      "name": "python"
    }
  },
  "cells": [
    {
      "cell_type": "markdown",
      "metadata": {
        "id": "view-in-github",
        "colab_type": "text"
      },
      "source": [
        "<a href=\"https://colab.research.google.com/github/ParkerTortorici/CIS490B/blob/main/Parker_AI_for_Image_Generation.ipynb\" target=\"_parent\"><img src=\"https://colab.research.google.com/assets/colab-badge.svg\" alt=\"Open In Colab\"/></a>"
      ]
    },
    {
      "cell_type": "markdown",
      "source": [
        "[](https://diffusion-news.org/stable-diffusion-google-colab)"
      ],
      "metadata": {
        "id": "XaGL81zh2b0V"
      }
    },
    {
      "cell_type": "markdown",
      "source": [
        "### AI for Image Generation\n",
        "\n",
        "Stable Diffusion (from [stability.ai](https://stability.ai/)) is one of the latest AI text to image generation applications, similar to [Dall-E 2](https://openai.com/dall-e-2/) from openai.com, and [Midjourney](https://www.midjourney.com/home/).\n",
        "\n",
        "It generates high quality artistic images from text ***prompts***. Stable Diffusion is known for being extremely fast and getting by with minimal resources compared to competitors, such as Dall-E 2. Also, unlike openai, Stable Diffusion is truly open source and have made it very open to the public.\n",
        "\n",
        "\n",
        "\n",
        "Lets take a look at this introduction to [AI driven image generation and the tools we will use](https://youtu.be/nVhmFski3vg)\n",
        "\n",
        "<hr>\n",
        "Here are some hints to create good prompts:\n",
        "\n",
        "[10 prompt tips](https://youtu.be/SKGVZuS6HzQ)\n",
        "\n",
        "Use something well-known  \n",
        "* E.g., Dragon, knight, wizard, king, queen, etc.\n",
        "\n",
        "Be as specific as possible  \n",
        "* E.g. A rainbow-colored butterfly flying across a field of flowers during a sunset.\n",
        "\n",
        "Use multiple adjectives  \n",
        "* E.g., Beautiful, colorful, powerful, intricate, detailed, massive.\n",
        "\n",
        "Include the name of an artist (to invoke their art style)  \n",
        "* E.g., Vincent Van Gogh, Picasso, Salvador Dali, M.C. Escher.\n",
        "\n",
        "Describe a style  \n",
        "* E.g., Surrealism, Cyberpunk, Realism, Cubism, Contemporary, Fantasy, Abstract, Modern, Impressionism, Minimal.\n",
        "\n",
        "Include computer graphics  \n",
        "* E.g., Octane render, Unreal Engine, Ray tracing. \n"
      ],
      "metadata": {
        "id": "wPqqa-5qDGgZ"
      }
    },
    {
      "cell_type": "markdown",
      "source": [
        "We will use a free service that is hosting Stable Diffusion to create images with our own text prompts.  Please go to this site and sign up for a free account to generate 5 images.\n",
        "\n",
        "https://creator.nightcafe.studio/create\n",
        "\n"
      ],
      "metadata": {
        "id": "TxBO6SywEcaT"
      }
    },
    {
      "cell_type": "markdown",
      "source": [
        "Here is my first prompt: \"dog running in a forest.\"\n",
        "\n",
        "<img src=\"dogrunning.jpg\">\n"
      ],
      "metadata": {
        "id": "5bCeGp8oUT8g"
      }
    },
    {
      "cell_type": "code",
      "execution_count": null,
      "metadata": {
        "id": "bkjfwcUC2LLp",
        "colab": {
          "base_uri": "https://localhost:8080/"
        },
        "outputId": "4e989c3b-fb31-43c6-c7d5-36a3009c711c"
      },
      "outputs": [
        {
          "output_type": "stream",
          "name": "stdout",
          "text": [
            "dogrunning.jpg\tsample_data\n"
          ]
        }
      ],
      "source": [
        "!ls"
      ]
    }
  ]
}