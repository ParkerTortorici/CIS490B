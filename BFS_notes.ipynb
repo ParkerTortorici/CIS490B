{
  "nbformat": 4,
  "nbformat_minor": 0,
  "metadata": {
    "colab": {
      "provenance": [],
      "authorship_tag": "ABX9TyObelx9g14XgIHpMY79opkz",
      "include_colab_link": true
    },
    "kernelspec": {
      "name": "python3",
      "display_name": "Python 3"
    },
    "language_info": {
      "name": "python"
    }
  },
  "cells": [
    {
      "cell_type": "markdown",
      "metadata": {
        "id": "view-in-github",
        "colab_type": "text"
      },
      "source": [
        "<a href=\"https://colab.research.google.com/github/ParkerTortorici/CIS490B/blob/main/BFS_notes.ipynb\" target=\"_parent\"><img src=\"https://colab.research.google.com/assets/colab-badge.svg\" alt=\"Open In Colab\"/></a>"
      ]
    },
    {
      "cell_type": "markdown",
      "source": [
        "Breadth First Walk hints:\n",
        "\n"
      ],
      "metadata": {
        "id": "2eAB0Q5RZrLY"
      }
    },
    {
      "cell_type": "markdown",
      "source": [
        "Object Oriented Programming involves combining data and functions into modular units (aka objects, aka classes)\n",
        "\n",
        "Here we **define** a simple python class that stores temperature and returns in either Fahrenheit or Celsius. *To define means specify the attrubutes (data) and methods (functions) in a class.*"
      ],
      "metadata": {
        "id": "FVOiSSGhbqGg"
      }
    },
    {
      "cell_type": "code",
      "source": [
        "#In this cell we define the temp class\n",
        "class Temp:\n",
        "  \"\"\"This is a special comment. It is special because when you ask for class\n",
        "  help, it will print only comments like me\"\"\"\n",
        "  def __init__(self, temp_in_celsius):\n",
        "    \"\"\"This is a special method. It gets called when an instance of this class\n",
        "    is created. It is commonly called a constructor in other object\n",
        "    oriented languages.\n",
        "    In python it is customary to initialize all attributes in the __init__\n",
        "    method.\"\"\"\n",
        "    self._temp_in_celsius = temp_in_celsius\n",
        "    #when we want the attribute to be treated as private (which means we should\n",
        "    #not access it outside of Temp methods), we name the attribute with a\n",
        "    #leading _\n",
        "\n",
        "  def getInCelsius(self):\n",
        "    return self._temp_in_celsius\n",
        "\n",
        "  def getInFahrenheit(self):\n",
        "    return self._temp_in_celsius *9/5 +32"
      ],
      "metadata": {
        "id": "TAq7dUaVbn8X"
      },
      "execution_count": null,
      "outputs": []
    },
    {
      "cell_type": "code",
      "source": [
        "#In this cell we instantiate an instance of the Temp class\n",
        "#on the left is a variable name, on the right is class name w/ parens\n",
        "freezing = Temp(0) #this is an example of object instantiation\n",
        "#there is now on instance of the Temp class\n",
        "print(freezing.getInFahrenheit()) #here we call a method of Temp\n",
        "print(freezing._temp_in_celsius)"
      ],
      "metadata": {
        "colab": {
          "base_uri": "https://localhost:8080/"
        },
        "id": "iSXUAYCPewZt",
        "outputId": "8e5af919-c965-479c-b64c-4745da82f7a6"
      },
      "execution_count": null,
      "outputs": [
        {
          "output_type": "stream",
          "name": "stdout",
          "text": [
            "32.0\n",
            "0\n"
          ]
        }
      ]
    },
    {
      "cell_type": "code",
      "source": [
        "#list traversal\n",
        "i_am_a_list = ['first element', 'second element', 'third element']\n",
        "\n",
        "#print all elements in a list\n",
        "index = 0\n",
        "for index, i in enumerate(i_am_a_list):\n",
        "  print('index:', index, i)\n",
        "  index += 1"
      ],
      "metadata": {
        "colab": {
          "base_uri": "https://localhost:8080/"
        },
        "id": "9qVQMOqOjjQq",
        "outputId": "ffac7c34-59b8-4839-8ecf-836d4c058a93"
      },
      "execution_count": null,
      "outputs": [
        {
          "output_type": "stream",
          "name": "stdout",
          "text": [
            "index: 0 first element\n",
            "index: 1 second element\n",
            "index: 2 third element\n"
          ]
        }
      ]
    },
    {
      "cell_type": "code",
      "source": [
        "nums = [2,7,11,15]\n",
        "target = 9\n",
        "correct_output = [0,1]\n",
        "\n",
        "def twoSum(nums, traget): \n",
        "  \"\"\"Find two noumbers in the given list nums that add up to target,\n",
        "  return the indices pf these two numbers\"\"\"\n",
        "  for i_index, i in enumerate(nums):\n",
        "    for j_index, j in enumerate(nums):\n",
        "      if i + j == target:\n",
        "        return [i_index,j_index]\n",
        "  return []\n",
        "\n",
        "twoSum(nums, target)"
      ],
      "metadata": {
        "colab": {
          "base_uri": "https://localhost:8080/"
        },
        "id": "rOlBtc-rpQMm",
        "outputId": "8b96712d-3ff9-4298-bf22-d71f2e366b03"
      },
      "execution_count": null,
      "outputs": [
        {
          "output_type": "execute_result",
          "data": {
            "text/plain": [
              "[0, 1]"
            ]
          },
          "metadata": {},
          "execution_count": 1
        }
      ]
    },
    {
      "cell_type": "code",
      "source": [],
      "metadata": {
        "id": "e-aJSYiHrJK9"
      },
      "execution_count": null,
      "outputs": []
    }
  ]
}