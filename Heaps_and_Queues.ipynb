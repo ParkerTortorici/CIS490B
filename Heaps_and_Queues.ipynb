{
  "nbformat": 4,
  "nbformat_minor": 0,
  "metadata": {
    "colab": {
      "provenance": [],
      "authorship_tag": "ABX9TyMz0h0YtO6blOIoU2XF2Vpt",
      "include_colab_link": true
    },
    "kernelspec": {
      "name": "python3",
      "display_name": "Python 3"
    },
    "language_info": {
      "name": "python"
    }
  },
  "cells": [
    {
      "cell_type": "markdown",
      "metadata": {
        "id": "view-in-github",
        "colab_type": "text"
      },
      "source": [
        "<a href=\"https://colab.research.google.com/github/ParkerTortorici/CIS490B/blob/main/Heaps_and_Queues.ipynb\" target=\"_parent\"><img src=\"https://colab.research.google.com/assets/colab-badge.svg\" alt=\"Open In Colab\"/></a>"
      ]
    },
    {
      "cell_type": "markdown",
      "source": [
        "***Tree*** - \n",
        "* a data structure in which nodes are organized as having a parent and/or child. \n",
        "* The highest parent is refered to as the **root** (a tree must have a root generally). \n",
        "* The lowest level child nodes are referred to as **leaves**. A tree in which a parent has at most two children is called a **binary tree**.\n",
        "* A binary tree with N elements has at most (lgN) levels\n",
        "_______________"
      ],
      "metadata": {
        "id": "CKarlEciRTKr"
      }
    },
    {
      "cell_type": "markdown",
      "source": [
        "[***Heap***](https://en.wikipedia.org/wiki/Heap_(data_structure)) - tree based data structure (usually a binary tree) which may or may not be complete. Heaps are a good implementation of a priority queue.\n",
        "\n",
        "**Heap property** -  the value of data in a parent node must always be greater than or equal to the data value of a node (for a max heap).\n",
        "\n",
        "key methods:\n",
        "* _**pop** off the root_ - remove the root and fix the tree.\n",
        "* _**insert** a new element_\n",
        "\n",
        "<img src=\"https://cdn.programiz.com/cdn/farfuture/OTLuUbQZmYPjHkXgmCfzHr8nNCkoi2Je9y9ZzIl1vuI/mtime:1582112622/sites/tutorial2program/files/maxheap_1.png\" width=200>\n",
        "\n",
        "\n",
        "[***Queue***](https://en.wikipedia.org/wiki/Queue_(abstract_data_type)) - \n",
        "a data structure which is a collection of entities that are maintained in a sequence (does not necessarily need to be ordered)\n",
        "* LIFO - aka *stack* last in first out 0 data nodes are inserted and removed inly from one end ('the top of the stack')\n",
        "* FIFO - first in first out - data is removed at one end and inserted at the other\n",
        "* Heap - an implementation of a *priority queue* - i.e. when the data in the queue is sorted in some way.\n"
      ],
      "metadata": {
        "id": "0MDryjSHL6f7"
      }
    },
    {
      "cell_type": "code",
      "execution_count": null,
      "metadata": {
        "colab": {
          "base_uri": "https://localhost:8080/",
          "height": 132
        },
        "id": "32f7n0a0LYFu",
        "outputId": "93a3d994-7d78-42b0-c747-99589b72f143"
      },
      "outputs": [
        {
          "output_type": "error",
          "ename": "SyntaxError",
          "evalue": "ignored",
          "traceback": [
            "\u001b[0;36m  File \u001b[0;32m\"<ipython-input-28-9d63cda7c69a>\"\u001b[0;36m, line \u001b[0;32m13\u001b[0m\n\u001b[0;31m    def remove_root()\u001b[0m\n\u001b[0m                     ^\u001b[0m\n\u001b[0;31mSyntaxError\u001b[0m\u001b[0;31m:\u001b[0m invalid syntax\n"
          ]
        }
      ],
      "source": [
        "# heap implementation\n",
        "\n",
        "class Heap:\n",
        "  \"\"\" Implements a max heap with insert and pop.\"\"\"\n",
        "  \n",
        "  def __init__(self):\n",
        "    self.root = None\n",
        "    self.count = 0\n",
        "    \n",
        "  def insert(self):\n",
        "    pass\n",
        "\n",
        "  def remove_root()\n",
        "\n",
        "class Node:\n",
        "  def __init__(self):\n",
        "    self.data = None\n",
        "    self.parent = None\n",
        "    self.childA = None\n",
        "    self.childB = None\n",
        "  \n",
        "  def __str__(self):\n",
        "    \"\"\" This will recursively generate a string for the tree beneath this node\"\"\"\n",
        "    print('I am str generator for: ', self.data)\n",
        "    s = ''\n",
        "    s += '\\ndata: ' + str(self.data)\n",
        "    #s += '\\nparent: ' + str(self.parent)\n",
        "    s += '\\nchildA: ' + str(self.childA)\n",
        "    s += '\\nchildB: ' + str(self.childB)\n",
        "    return s\n"
      ]
    },
    {
      "cell_type": "code",
      "source": [
        "n1 = Node()\n",
        "n1.data = \"I am GROOT\"\n",
        "\n",
        "n2 = Node()\n",
        "n2.data = \"I am baby groot A\"\n",
        "n2.parent = n1\n",
        "n1.childA = n2\n",
        "\n",
        "print(n1)\n",
        "#print(n2)\n"
      ],
      "metadata": {
        "colab": {
          "base_uri": "https://localhost:8080/"
        },
        "id": "9OTrXumuYj2s",
        "outputId": "9da0890e-f11f-455b-c886-cdc70bc2cbab"
      },
      "execution_count": null,
      "outputs": [
        {
          "output_type": "stream",
          "name": "stdout",
          "text": [
            "I am str generator for:  I am GROOT\n",
            "I am str generator for:  I am baby groot A\n",
            "\n",
            "data: I am GROOT\n",
            "childA: \n",
            "data: I am baby groot A\n",
            "childA: None\n",
            "childB: None\n",
            "childB: None\n"
          ]
        }
      ]
    }
  ]
}