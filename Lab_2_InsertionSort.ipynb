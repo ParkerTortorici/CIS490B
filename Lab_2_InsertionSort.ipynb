{
  "nbformat": 4,
  "nbformat_minor": 0,
  "metadata": {
    "colab": {
      "provenance": [],
      "authorship_tag": "ABX9TyN8Oo6nJOmgXbzAROqlIics",
      "include_colab_link": true
    },
    "kernelspec": {
      "name": "python3",
      "display_name": "Python 3"
    },
    "language_info": {
      "name": "python"
    }
  },
  "cells": [
    {
      "cell_type": "markdown",
      "metadata": {
        "id": "view-in-github",
        "colab_type": "text"
      },
      "source": [
        "<a href=\"https://colab.research.google.com/github/ParkerTortorici/CIS490B/blob/main/Lab_2_InsertionSort.ipynb\" target=\"_parent\"><img src=\"https://colab.research.google.com/assets/colab-badge.svg\" alt=\"Open In Colab\"/></a>"
      ]
    },
    {
      "cell_type": "markdown",
      "source": [
        "####Questions\n",
        "1. \"Please briefly explain what is meant by big O notation.\" Big O notation refers to how long a program takes in time and space complexity.\n",
        "\n",
        "1. \"What is the difference between time and space complexity?\" Time complexity refers to how long a program takes and space complexity refers to how much space it will take to change.\n",
        "\n",
        "1. \"What is the difference between InsertionSort and SelectionSort?\" InsertionSort scans the list backwards and SelectionSort scans the list forwards.\n",
        "\n",
        "1. \"Is SelectionSort ever better to use than InsertionSort? If so, when?\" SelectionSort is always O(n^2) and it can be faster when stops are more costly than comparisons"
      ],
      "metadata": {
        "id": "0NCXif_vIQ1J"
      }
    },
    {
      "cell_type": "markdown",
      "source": [
        "####SelectionSort pseudocode\n",
        "- Select card with lowest value\n",
        "  - place card\n",
        "- Select card with next lowest value\n",
        " - place to the right of the first card\n",
        "- Select card with next lowest value\n",
        "  - place the card to the right of the last one\n",
        "\n",
        "keep the process going until all inputs are sorted"
      ],
      "metadata": {
        "id": "JahP9D-JeiIw"
      }
    },
    {
      "cell_type": "code",
      "execution_count": null,
      "metadata": {
        "id": "-ZxfZ3_dIK6q",
        "colab": {
          "base_uri": "https://localhost:8080/"
        },
        "outputId": "9ee819aa-39da-4d38-9e46-6a473cfc8668"
      },
      "outputs": [
        {
          "output_type": "stream",
          "name": "stdout",
          "text": [
            "[2, 3, 4, 51]\n"
          ]
        }
      ],
      "source": [
        "#SelectionSort\n",
        "input_data = [51,2,3,4]\n",
        "def selection_sort(x):\n",
        "\n",
        "  sorted_data = []\n",
        "  for next_card in x: \n",
        "    index = 0\n",
        "    for current_card in sorted_data:\n",
        "      if next_card < current_card:\n",
        "        sorted_data.insert(index,next_card)\n",
        "        break\n",
        "      index = index + 1\n",
        "    if index == len(sorted_data):\n",
        "        sorted_data.append(next_card)\n",
        "\n",
        "  return sorted_data\n",
        "\n",
        "print(selection_sort(input_data))"
      ]
    },
    {
      "cell_type": "code",
      "source": [
        "#SelectionSort presorted\n",
        "input_data = [1,2,3,4]\n",
        "sorted_data = []\n",
        "for next_card in input_data: \n",
        "  index = 0\n",
        "  for current_card in sorted_data:\n",
        "    if next_card < current_card:\n",
        "      sorted_data.insert(index,next_card)\n",
        "      break\n",
        "    index = index + 1\n",
        "  if index == len(sorted_data):\n",
        "      sorted_data.append(next_card)\n",
        "\n",
        "print(sorted_data)"
      ],
      "metadata": {
        "colab": {
          "base_uri": "https://localhost:8080/"
        },
        "id": "RB30J2Z53YJQ",
        "outputId": "99683dec-dd54-46b5-baee-914b01f12c06"
      },
      "execution_count": null,
      "outputs": [
        {
          "output_type": "stream",
          "name": "stdout",
          "text": [
            "[1, 2, 3, 4]\n"
          ]
        }
      ]
    },
    {
      "cell_type": "code",
      "source": [
        "#SelectionSort reverse sorted\n",
        "input_data = [4,3,2,1]\n",
        "sorted_data = []\n",
        "for next_card in input_data: \n",
        "  index = 0\n",
        "  for current_card in sorted_data:\n",
        "    if next_card < current_card:\n",
        "      sorted_data.insert(index,next_card)\n",
        "      break\n",
        "    index = index + 1\n",
        "  if index == len(sorted_data):\n",
        "      sorted_data.append(next_card)\n",
        "\n",
        "print(sorted_data)"
      ],
      "metadata": {
        "colab": {
          "base_uri": "https://localhost:8080/"
        },
        "id": "sI3C3_RC3cmR",
        "outputId": "c1d661cd-1616-4c8f-a406-83eebca0a6b0"
      },
      "execution_count": null,
      "outputs": [
        {
          "output_type": "stream",
          "name": "stdout",
          "text": [
            "[1, 2, 3, 4]\n"
          ]
        }
      ]
    },
    {
      "cell_type": "code",
      "source": [
        "#SelectionSort unsorted\n",
        "input_data = [2,4,3,1]\n",
        "sorted_data = []\n",
        "for next_card in input_data: \n",
        "  index = 0\n",
        "  for current_card in sorted_data:\n",
        "    if next_card < current_card:\n",
        "      sorted_data.insert(index,next_card)\n",
        "      break\n",
        "    index = index + 1\n",
        "  if index == len(sorted_data):\n",
        "      sorted_data.append(next_card)\n",
        "\n",
        "print(sorted_data)"
      ],
      "metadata": {
        "colab": {
          "base_uri": "https://localhost:8080/"
        },
        "id": "RjL7dX6b3lKt",
        "outputId": "a1e05ea4-4b32-43f5-f708-407adf3a360d"
      },
      "execution_count": null,
      "outputs": [
        {
          "output_type": "stream",
          "name": "stdout",
          "text": [
            "[1, 2, 3, 4]\n"
          ]
        }
      ]
    },
    {
      "cell_type": "code",
      "source": [
        "#SelectionSort negative numbers\n",
        "input_data = [-2,-3,-4,-1]\n",
        "sorted_data = []\n",
        "for next_card in input_data: \n",
        "  index = 0\n",
        "  for current_card in sorted_data:\n",
        "    if next_card < current_card:\n",
        "      sorted_data.insert(index,next_card)\n",
        "      break\n",
        "    index = index + 1\n",
        "  if index == len(sorted_data):\n",
        "      sorted_data.append(next_card)\n",
        "\n",
        "print(sorted_data)"
      ],
      "metadata": {
        "colab": {
          "base_uri": "https://localhost:8080/"
        },
        "id": "hwJfCSmO3qC6",
        "outputId": "09b936b8-be9b-4153-a07a-b62a5ae85605"
      },
      "execution_count": null,
      "outputs": [
        {
          "output_type": "stream",
          "name": "stdout",
          "text": [
            "[-4, -3, -2, -1]\n"
          ]
        }
      ]
    },
    {
      "cell_type": "code",
      "source": [
        "#SelectionSort decimals\n",
        "input_data = [.51,2,.3,.9]\n",
        "sorted_data = []\n",
        "for next_card in input_data: \n",
        "  index = 0\n",
        "  for current_card in sorted_data:\n",
        "    if next_card < current_card:\n",
        "      sorted_data.insert(index,next_card)\n",
        "      break\n",
        "    index = index + 1\n",
        "  if index == len(sorted_data):\n",
        "      sorted_data.append(next_card)\n",
        "\n",
        "print(sorted_data)"
      ],
      "metadata": {
        "colab": {
          "base_uri": "https://localhost:8080/"
        },
        "id": "XUCfSozF3wWz",
        "outputId": "305f386a-7724-4207-a7c1-14397a1f8054"
      },
      "execution_count": null,
      "outputs": [
        {
          "output_type": "stream",
          "name": "stdout",
          "text": [
            "[0.3, 0.51, 0.9, 2]\n"
          ]
        }
      ]
    },
    {
      "cell_type": "code",
      "source": [
        "#SelectionSort strings\n",
        "input_data = [51,2,3,4]\n",
        "sorted_data = []\n",
        "for next_card in input_data: \n",
        "  index = 0\n",
        "  for current_card in sorted_data:\n",
        "    if next_card < current_card:\n",
        "      sorted_data.insert(index,next_card)\n",
        "      break\n",
        "    index = index + 1\n",
        "  if index == len(sorted_data):\n",
        "      sorted_data.append(next_card)\n",
        "\n",
        "print('sorted_data', sorted_data)"
      ],
      "metadata": {
        "colab": {
          "base_uri": "https://localhost:8080/"
        },
        "id": "5TeqNlnW33B8",
        "outputId": "a2fcb590-a502-45ea-8b72-6c3e9a4dc426"
      },
      "execution_count": null,
      "outputs": [
        {
          "output_type": "stream",
          "name": "stdout",
          "text": [
            "sorted_data [2, 3, 4, 51]\n"
          ]
        }
      ]
    },
    {
      "cell_type": "code",
      "source": [
        "#SelectionSortInPlace\n",
        "input_data = [51,2,3,4]\n",
        "if input_data[0] > input_data[1]:\n",
        "  (input_data[0],input_data[1]) = (input_data[1],input_data[0])\n",
        "if input_data[1] > input_data[2]:\n",
        "  (input_data[1],input_data[2]) = (input_data[2],input_data[1])\n",
        "if input_data[2] > input_data[3]:\n",
        "  (input_data[2],input_data[3]) = (input_data[3],input_data[2])\n",
        "print(input_data)"
      ],
      "metadata": {
        "colab": {
          "base_uri": "https://localhost:8080/"
        },
        "id": "ubbEUjj3kIPM",
        "outputId": "da55c1c8-fdfe-42c2-b616-4804fa33f166"
      },
      "execution_count": null,
      "outputs": [
        {
          "output_type": "stream",
          "name": "stdout",
          "text": [
            "[2, 3, 4, 51]\n"
          ]
        }
      ]
    },
    {
      "cell_type": "code",
      "source": [
        "#SelectionSortInPlace decimals\n",
        "input_data = [.51,2,.9,4]\n",
        "if input_data[0] > input_data[1]:\n",
        "  (input_data[0],input_data[1]) = (input_data[1],input_data[0])\n",
        "if input_data[1] > input_data[2]:\n",
        "  (input_data[1],input_data[2]) = (input_data[2],input_data[1])\n",
        "if input_data[2] > input_data[3]:\n",
        "  (input_data[2],input_data[3]) = (input_data[3],input_data[2])\n",
        "print(input_data)"
      ],
      "metadata": {
        "colab": {
          "base_uri": "https://localhost:8080/"
        },
        "id": "OoTRkaEZp8Sb",
        "outputId": "66c654ee-bbd0-46d3-dba4-c611c8a321a9"
      },
      "execution_count": null,
      "outputs": [
        {
          "output_type": "stream",
          "name": "stdout",
          "text": [
            "[0.51, 0.9, 2, 4]\n"
          ]
        }
      ]
    },
    {
      "cell_type": "code",
      "source": [
        "#InsertionSortInPlace\n",
        "input_data = [51,2,3,4]\n",
        "if input_data[0] < input_data[1]:\n",
        "  (input_data[0],input_data[1]) = (input_data[1],input_data[0])\n",
        "if input_data[1] < input_data[2]:\n",
        "  (input_data[1],input_data[2]) = (input_data[2],input_data[1])\n",
        "if input_data[2] < input_data[3]:\n",
        "  (input_data[2],input_data[3]) = (input_data[3],input_data[2])\n",
        "print(input_data)"
      ],
      "metadata": {
        "colab": {
          "base_uri": "https://localhost:8080/"
        },
        "id": "ANCgI-ZPqDx0",
        "outputId": "a3e25e55-1800-40c0-b698-dcf9e022f4e1"
      },
      "execution_count": null,
      "outputs": [
        {
          "output_type": "stream",
          "name": "stdout",
          "text": [
            "[51, 3, 4, 2]\n"
          ]
        }
      ]
    },
    {
      "cell_type": "code",
      "source": [
        "#InsertionSortInPlace decimals\n",
        "input_data = [.51,2,3,-900]\n",
        "if input_data[0] < input_data[1]:\n",
        "  (input_data[0],input_data[1]) = (input_data[1],input_data[0])\n",
        "if input_data[1] < input_data[2]:\n",
        "  (input_data[1],input_data[2]) = (input_data[2],input_data[1])\n",
        "if input_data[2] < input_data[3]:\n",
        "  (input_data[2],input_data[3]) = (input_data[3],input_data[2])\n",
        "print(input_data)"
      ],
      "metadata": {
        "colab": {
          "base_uri": "https://localhost:8080/"
        },
        "id": "A4QB_7hnqNMy",
        "outputId": "a504cc1f-0722-4d2f-e631-4a8a509d4816"
      },
      "execution_count": null,
      "outputs": [
        {
          "output_type": "stream",
          "name": "stdout",
          "text": [
            "[2, 3, 0.51, -900]\n"
          ]
        }
      ]
    },
    {
      "cell_type": "code",
      "source": [
        "#SelectionSortInPlace (start at beginning)\n",
        "my_list = [9,3,4,1]\n",
        "def selsort(my_list, l):\n",
        "  for k in range(l):\n",
        "    lowest_card = k\n",
        "\n",
        "    for m in range(k+1,l):\n",
        "      if my_list[m] < my_list[lowest_card]:\n",
        "        lowest_card = m\n",
        "    (my_list[k], my_list[lowest_card]) = (my_list[lowest_card], my_list[k])\n",
        "l = len(my_list)\n",
        "selsort(my_list, l)\n",
        "print(my_list)"
      ],
      "metadata": {
        "id": "jbOP3kygJ_n7",
        "colab": {
          "base_uri": "https://localhost:8080/"
        },
        "outputId": "f0534bb4-a951-496e-953d-a4bb223201f4"
      },
      "execution_count": null,
      "outputs": [
        {
          "output_type": "stream",
          "name": "stdout",
          "text": [
            "[1, 3, 4, 9]\n"
          ]
        }
      ]
    },
    {
      "cell_type": "code",
      "source": [
        "#SelectionSortInPlace (start at beginning) with decimals\n",
        "my_list = [.9,3,.4,1]\n",
        "def selsort(my_list, l):\n",
        "  for k in range(l):\n",
        "    lowest_card = k\n",
        "\n",
        "    for m in range(k+1,l):\n",
        "      if my_list[m] < my_list[lowest_card]:\n",
        "        lowest_card = m\n",
        "    (my_list[k], my_list[lowest_card]) = (my_list[lowest_card], my_list[k])\n",
        "l = len(my_list)\n",
        "selsort(my_list, l)\n",
        "print(my_list)"
      ],
      "metadata": {
        "colab": {
          "base_uri": "https://localhost:8080/"
        },
        "id": "lGLmP8ZXkdPT",
        "outputId": "b8a4050c-f14c-460a-c1ea-ff1e3663b10c"
      },
      "execution_count": null,
      "outputs": [
        {
          "output_type": "stream",
          "name": "stdout",
          "text": [
            "[0.4, 0.9, 1, 3]\n"
          ]
        }
      ]
    },
    {
      "cell_type": "code",
      "source": [
        "#InsertionSortInPlace (start at end)\n",
        "my_list = [9,3,4,1]\n",
        "def inssort(my_list):\n",
        "  for k in range(1, len(my_list)):\n",
        "    temp = my_list[k]\n",
        "    l = k - 1\n",
        "\n",
        "    while l  >= 0 and temp < my_list[l]:\n",
        "      my_list[l + 1] = my_list[l]\n",
        "      l = l - 1\n",
        "    my_list[l +1] = temp\n",
        "l = len(my_list)\n",
        "inssort(my_list)\n",
        "print(my_list)"
      ],
      "metadata": {
        "id": "RHWevOQ-Kkeq",
        "colab": {
          "base_uri": "https://localhost:8080/"
        },
        "outputId": "6df7637f-add3-41ef-c9a6-980fbdb61722"
      },
      "execution_count": null,
      "outputs": [
        {
          "output_type": "stream",
          "name": "stdout",
          "text": [
            "[1, 3, 4, 9]\n"
          ]
        }
      ]
    },
    {
      "cell_type": "code",
      "source": [
        "#InsertionSortInPlace (start at end) with decimals\n",
        "my_list = [.9,3,.4,1]\n",
        "def inssort(my_list):\n",
        "  for k in range(1, len(my_list)):\n",
        "    temp = my_list[k]\n",
        "    l = k - 1\n",
        "\n",
        "    while l  >= 0 and temp < my_list[l]:\n",
        "      my_list[l + 1] = my_list[l]\n",
        "      l = l - 1\n",
        "    my_list[l +1] = temp\n",
        "l = len(my_list)\n",
        "inssort(my_list)\n",
        "print(my_list)"
      ],
      "metadata": {
        "colab": {
          "base_uri": "https://localhost:8080/"
        },
        "id": "kQTNv-Ywqjmx",
        "outputId": "32445eb1-7404-4eed-9ca0-8b377f2456bd"
      },
      "execution_count": null,
      "outputs": [
        {
          "output_type": "stream",
          "name": "stdout",
          "text": [
            "[0.4, 0.9, 1, 3]\n"
          ]
        }
      ]
    }
  ]
}